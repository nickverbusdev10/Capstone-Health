{
 "cells": [
  {
   "cell_type": "code",
   "execution_count": 72,
   "id": "04eecbe9",
   "metadata": {},
   "outputs": [],
   "source": [
    "import pandas as pd\n",
    "import numpy\n",
    "import math"
   ]
  },
  {
   "cell_type": "code",
   "execution_count": 3,
   "id": "08163143",
   "metadata": {},
   "outputs": [],
   "source": [
    "really_big_data = pd.read_excel(r\"C:\\Users\\Nick\\Documents\\GitFolder\\Capstone-Health\\Info-Folder\\Insurance\\sahie_2019xl.xlsx\", sheet_name = \"Attempt2\")"
   ]
  },
  {
   "cell_type": "code",
   "execution_count": null,
   "id": "ae32dcd6",
   "metadata": {},
   "outputs": [],
   "source": [
    "'''\n",
    "I included all of my struggles and dirty work as well. My analysis starts ~60% of the way down the page after 'attempt 2'\n",
    "'''"
   ]
  },
  {
   "cell_type": "code",
   "execution_count": 890,
   "id": "6dd23c27",
   "metadata": {},
   "outputs": [],
   "source": [
    "def Avg(alist):\n",
    "    x = sum(alist)/len(alist)\n",
    "    \n",
    "    return x\n"
   ]
  },
  {
   "cell_type": "code",
   "execution_count": 4,
   "id": "a4e20ac3",
   "metadata": {},
   "outputs": [
    {
     "name": "stdout",
     "output_type": "stream",
     "text": [
      "<class 'pandas.core.frame.DataFrame'>\n",
      "RangeIndex: 18300 entries, 0 to 18299\n",
      "Data columns (total 25 columns):\n",
      " #   Column       Non-Null Count  Dtype  \n",
      "---  ------       --------------  -----  \n",
      " 0   year         18300 non-null  int64  \n",
      " 1   version      18300 non-null  object \n",
      " 2   statefips    18300 non-null  int64  \n",
      " 3   countyfips   18300 non-null  int64  \n",
      " 4   geocat       18300 non-null  int64  \n",
      " 5   agecat       18300 non-null  int64  \n",
      " 6   racecat      18300 non-null  int64  \n",
      " 7   sexcat       18300 non-null  int64  \n",
      " 8   iprcat       18300 non-null  int64  \n",
      " 9   NIPR         18300 non-null  int64  \n",
      " 10  nipr_moe     18300 non-null  int64  \n",
      " 11  NUI          18300 non-null  int64  \n",
      " 12  nui_moe      18300 non-null  int64  \n",
      " 13  NIC          18300 non-null  int64  \n",
      " 14  nic_moe      18300 non-null  int64  \n",
      " 15  PCTUI        18300 non-null  float64\n",
      " 16  pctui_moe    18300 non-null  float64\n",
      " 17  PCTIC        18300 non-null  float64\n",
      " 18  pctic_moe    18300 non-null  float64\n",
      " 19  PCTELIG      18300 non-null  float64\n",
      " 20  pctelig_moe  18300 non-null  float64\n",
      " 21  PCTLIIC      18300 non-null  float64\n",
      " 22  pctliic_moe  18300 non-null  float64\n",
      " 23  state_name   18300 non-null  object \n",
      " 24  county_name  18300 non-null  object \n",
      "dtypes: float64(8), int64(14), object(3)\n",
      "memory usage: 3.5+ MB\n"
     ]
    }
   ],
   "source": [
    "really_big_data.info()"
   ]
  },
  {
   "cell_type": "code",
   "execution_count": null,
   "id": "eac95b6b",
   "metadata": {},
   "outputs": [],
   "source": [
    "'''cleaning everything that we dont want'''"
   ]
  },
  {
   "cell_type": "code",
   "execution_count": 11,
   "id": "3dfc7368",
   "metadata": {},
   "outputs": [],
   "source": [
    "cleandf = really_big_data.drop(['version'],axis=1)"
   ]
  },
  {
   "cell_type": "code",
   "execution_count": 12,
   "id": "07a11c60",
   "metadata": {},
   "outputs": [],
   "source": [
    "cleandf = cleandf.drop(['year'],axis=1)"
   ]
  },
  {
   "cell_type": "code",
   "execution_count": 13,
   "id": "11a20264",
   "metadata": {},
   "outputs": [],
   "source": [
    "cleandf = cleandf.drop(['countyfips'],axis=1)"
   ]
  },
  {
   "cell_type": "code",
   "execution_count": null,
   "id": "fa938e48",
   "metadata": {},
   "outputs": [],
   "source": [
    "cleandf = cleandf.drop(['Median_Household_Income_by_State.Income'],axis=1)"
   ]
  },
  {
   "cell_type": "code",
   "execution_count": 14,
   "id": "929a6637",
   "metadata": {},
   "outputs": [],
   "source": [
    "cleandf = cleandf.drop(['geocat'],axis=1)"
   ]
  },
  {
   "cell_type": "code",
   "execution_count": 15,
   "id": "56ee2ce0",
   "metadata": {},
   "outputs": [],
   "source": [
    "cleandf = cleandf.drop(['nipr_moe'],axis=1)"
   ]
  },
  {
   "cell_type": "code",
   "execution_count": 16,
   "id": "ede6d318",
   "metadata": {},
   "outputs": [],
   "source": [
    "cleandf = cleandf.drop(['nui_moe'],axis=1)"
   ]
  },
  {
   "cell_type": "code",
   "execution_count": 17,
   "id": "bb7ddfab",
   "metadata": {},
   "outputs": [],
   "source": [
    "cleandf = cleandf.drop(['nic_moe'],axis=1)"
   ]
  },
  {
   "cell_type": "code",
   "execution_count": 18,
   "id": "b928ba75",
   "metadata": {},
   "outputs": [],
   "source": [
    "cleandf = cleandf.drop(['pctui_moe'],axis=1)"
   ]
  },
  {
   "cell_type": "code",
   "execution_count": 19,
   "id": "80946f1c",
   "metadata": {},
   "outputs": [],
   "source": [
    "cleandf = cleandf.drop(['pctic_moe'],axis=1)"
   ]
  },
  {
   "cell_type": "code",
   "execution_count": 20,
   "id": "feb0cacb",
   "metadata": {},
   "outputs": [],
   "source": [
    "cleandf = cleandf.drop(['pctelig_moe'],axis=1)"
   ]
  },
  {
   "cell_type": "code",
   "execution_count": 21,
   "id": "42dc8c0c",
   "metadata": {},
   "outputs": [],
   "source": [
    "cleandf = cleandf.drop(['pctliic_moe'],axis=1)"
   ]
  },
  {
   "cell_type": "code",
   "execution_count": 22,
   "id": "f8450ff8",
   "metadata": {},
   "outputs": [],
   "source": [
    "cleandf = cleandf.drop(['state_name'],axis=1)"
   ]
  },
  {
   "cell_type": "code",
   "execution_count": 23,
   "id": "1953c055",
   "metadata": {},
   "outputs": [],
   "source": [
    "cleandf = cleandf.drop(['county_name'],axis=1)"
   ]
  },
  {
   "cell_type": "code",
   "execution_count": 25,
   "id": "88917f3f",
   "metadata": {},
   "outputs": [],
   "source": [
    "cleandf = cleandf.drop(['statefips'],axis=1)"
   ]
  },
  {
   "cell_type": "code",
   "execution_count": 26,
   "id": "0725c535",
   "metadata": {},
   "outputs": [
    {
     "name": "stdout",
     "output_type": "stream",
     "text": [
      "<class 'pandas.core.frame.DataFrame'>\n",
      "RangeIndex: 18300 entries, 0 to 18299\n",
      "Data columns (total 11 columns):\n",
      " #   Column   Non-Null Count  Dtype  \n",
      "---  ------   --------------  -----  \n",
      " 0   agecat   18300 non-null  int64  \n",
      " 1   racecat  18300 non-null  int64  \n",
      " 2   sexcat   18300 non-null  int64  \n",
      " 3   iprcat   18300 non-null  int64  \n",
      " 4   NIPR     18300 non-null  int64  \n",
      " 5   NUI      18300 non-null  int64  \n",
      " 6   NIC      18300 non-null  int64  \n",
      " 7   PCTUI    18300 non-null  float64\n",
      " 8   PCTIC    18300 non-null  float64\n",
      " 9   PCTELIG  18300 non-null  float64\n",
      " 10  PCTLIIC  18300 non-null  float64\n",
      "dtypes: float64(4), int64(7)\n",
      "memory usage: 1.5 MB\n"
     ]
    }
   ],
   "source": [
    "cleandf.info()"
   ]
  },
  {
   "cell_type": "code",
   "execution_count": null,
   "id": "0b04b452",
   "metadata": {},
   "outputs": [],
   "source": [
    "'''separating numbers from percentages'''"
   ]
  },
  {
   "cell_type": "code",
   "execution_count": 27,
   "id": "f418f3ca",
   "metadata": {},
   "outputs": [],
   "source": [
    "rawnumberscleandf = cleandf.drop(['PCTUI'],axis=1)"
   ]
  },
  {
   "cell_type": "code",
   "execution_count": 28,
   "id": "b7cdc6e8",
   "metadata": {},
   "outputs": [],
   "source": [
    "rawnumberscleandf = rawnumberscleandf.drop(['PCTIC'],axis=1)"
   ]
  },
  {
   "cell_type": "code",
   "execution_count": 29,
   "id": "bd1e26ef",
   "metadata": {},
   "outputs": [],
   "source": [
    "rawnumberscleandf = rawnumberscleandf.drop(['PCTELIG'],axis=1)"
   ]
  },
  {
   "cell_type": "code",
   "execution_count": 30,
   "id": "3825a6bf",
   "metadata": {},
   "outputs": [],
   "source": [
    "rawnumberscleandf = rawnumberscleandf.drop(['PCTLIIC'],axis=1)"
   ]
  },
  {
   "cell_type": "code",
   "execution_count": 31,
   "id": "d9266553",
   "metadata": {},
   "outputs": [],
   "source": [
    "percentcleandf = cleandf.drop(['NIPR'],axis=1)"
   ]
  },
  {
   "cell_type": "code",
   "execution_count": 32,
   "id": "e99f1214",
   "metadata": {},
   "outputs": [],
   "source": [
    "percentcleandf = percentcleandf.drop(['NUI'],axis=1)"
   ]
  },
  {
   "cell_type": "code",
   "execution_count": 33,
   "id": "de66a47b",
   "metadata": {},
   "outputs": [],
   "source": [
    "percentcleandf = percentcleandf.drop(['NIC'],axis=1)"
   ]
  },
  {
   "cell_type": "code",
   "execution_count": 135,
   "id": "2dea7610",
   "metadata": {},
   "outputs": [
    {
     "data": {
      "text/html": [
       "<div>\n",
       "<style scoped>\n",
       "    .dataframe tbody tr th:only-of-type {\n",
       "        vertical-align: middle;\n",
       "    }\n",
       "\n",
       "    .dataframe tbody tr th {\n",
       "        vertical-align: top;\n",
       "    }\n",
       "\n",
       "    .dataframe thead th {\n",
       "        text-align: right;\n",
       "    }\n",
       "</style>\n",
       "<table border=\"1\" class=\"dataframe\">\n",
       "  <thead>\n",
       "    <tr style=\"text-align: right;\">\n",
       "      <th></th>\n",
       "      <th>agecat</th>\n",
       "      <th>racecat</th>\n",
       "      <th>sexcat</th>\n",
       "      <th>iprcat</th>\n",
       "      <th>NIPR</th>\n",
       "      <th>NUI</th>\n",
       "      <th>NIC</th>\n",
       "    </tr>\n",
       "  </thead>\n",
       "  <tbody>\n",
       "    <tr>\n",
       "      <th>0</th>\n",
       "      <td>0</td>\n",
       "      <td>0</td>\n",
       "      <td>0</td>\n",
       "      <td>0</td>\n",
       "      <td>3946002</td>\n",
       "      <td>457718</td>\n",
       "      <td>3488284</td>\n",
       "    </tr>\n",
       "    <tr>\n",
       "      <th>1</th>\n",
       "      <td>0</td>\n",
       "      <td>0</td>\n",
       "      <td>0</td>\n",
       "      <td>1</td>\n",
       "      <td>1409975</td>\n",
       "      <td>266516</td>\n",
       "      <td>1143459</td>\n",
       "    </tr>\n",
       "    <tr>\n",
       "      <th>2</th>\n",
       "      <td>0</td>\n",
       "      <td>0</td>\n",
       "      <td>0</td>\n",
       "      <td>2</td>\n",
       "      <td>1749910</td>\n",
       "      <td>315689</td>\n",
       "      <td>1434221</td>\n",
       "    </tr>\n",
       "    <tr>\n",
       "      <th>3</th>\n",
       "      <td>0</td>\n",
       "      <td>0</td>\n",
       "      <td>0</td>\n",
       "      <td>3</td>\n",
       "      <td>942752</td>\n",
       "      <td>187507</td>\n",
       "      <td>755245</td>\n",
       "    </tr>\n",
       "    <tr>\n",
       "      <th>4</th>\n",
       "      <td>0</td>\n",
       "      <td>0</td>\n",
       "      <td>0</td>\n",
       "      <td>4</td>\n",
       "      <td>2634493</td>\n",
       "      <td>398542</td>\n",
       "      <td>2235951</td>\n",
       "    </tr>\n",
       "  </tbody>\n",
       "</table>\n",
       "</div>"
      ],
      "text/plain": [
       "   agecat  racecat  sexcat  iprcat     NIPR     NUI      NIC\n",
       "0       0        0       0       0  3946002  457718  3488284\n",
       "1       0        0       0       1  1409975  266516  1143459\n",
       "2       0        0       0       2  1749910  315689  1434221\n",
       "3       0        0       0       3   942752  187507   755245\n",
       "4       0        0       0       4  2634493  398542  2235951"
      ]
     },
     "execution_count": 135,
     "metadata": {},
     "output_type": "execute_result"
    }
   ],
   "source": [
    "rawnumberscleandf.head()"
   ]
  },
  {
   "cell_type": "code",
   "execution_count": null,
   "id": "235d9ae6",
   "metadata": {},
   "outputs": [],
   "source": [
    "'''measure for unsured vs insured'''"
   ]
  },
  {
   "cell_type": "code",
   "execution_count": 34,
   "id": "ca190a93",
   "metadata": {},
   "outputs": [],
   "source": [
    "pcnotdf = percentcleandf.drop(['PCTIC'],axis=1)"
   ]
  },
  {
   "cell_type": "code",
   "execution_count": 35,
   "id": "d5270914",
   "metadata": {},
   "outputs": [],
   "source": [
    "pcnotdf = pcnotdf.drop(['PCTLIIC'],axis=1)"
   ]
  },
  {
   "cell_type": "code",
   "execution_count": 36,
   "id": "b70085e2",
   "metadata": {},
   "outputs": [
    {
     "name": "stdout",
     "output_type": "stream",
     "text": [
      "<class 'pandas.core.frame.DataFrame'>\n",
      "RangeIndex: 18300 entries, 0 to 18299\n",
      "Data columns (total 6 columns):\n",
      " #   Column   Non-Null Count  Dtype  \n",
      "---  ------   --------------  -----  \n",
      " 0   agecat   18300 non-null  int64  \n",
      " 1   racecat  18300 non-null  int64  \n",
      " 2   sexcat   18300 non-null  int64  \n",
      " 3   iprcat   18300 non-null  int64  \n",
      " 4   PCTUI    18300 non-null  float64\n",
      " 5   PCTELIG  18300 non-null  float64\n",
      "dtypes: float64(2), int64(4)\n",
      "memory usage: 857.9 KB\n"
     ]
    }
   ],
   "source": [
    "pcnotdf.info()"
   ]
  },
  {
   "cell_type": "code",
   "execution_count": 37,
   "id": "54d2af59",
   "metadata": {},
   "outputs": [],
   "source": [
    "pcisindf = percentcleandf.drop(['PCTUI'],axis=1)"
   ]
  },
  {
   "cell_type": "code",
   "execution_count": 38,
   "id": "0055994d",
   "metadata": {},
   "outputs": [],
   "source": [
    "pcisindf = pcisindf.drop(['PCTELIG'],axis=1)"
   ]
  },
  {
   "cell_type": "code",
   "execution_count": 39,
   "id": "82b4ab49",
   "metadata": {},
   "outputs": [
    {
     "name": "stdout",
     "output_type": "stream",
     "text": [
      "<class 'pandas.core.frame.DataFrame'>\n",
      "RangeIndex: 18300 entries, 0 to 18299\n",
      "Data columns (total 6 columns):\n",
      " #   Column   Non-Null Count  Dtype  \n",
      "---  ------   --------------  -----  \n",
      " 0   agecat   18300 non-null  int64  \n",
      " 1   racecat  18300 non-null  int64  \n",
      " 2   sexcat   18300 non-null  int64  \n",
      " 3   iprcat   18300 non-null  int64  \n",
      " 4   PCTIC    18300 non-null  float64\n",
      " 5   PCTLIIC  18300 non-null  float64\n",
      "dtypes: float64(2), int64(4)\n",
      "memory usage: 857.9 KB\n"
     ]
    }
   ],
   "source": [
    "pcisindf.info()"
   ]
  },
  {
   "cell_type": "code",
   "execution_count": 40,
   "id": "5330abfb",
   "metadata": {},
   "outputs": [
    {
     "name": "stdout",
     "output_type": "stream",
     "text": [
      "<class 'pandas.core.frame.DataFrame'>\n",
      "RangeIndex: 18300 entries, 0 to 18299\n",
      "Data columns (total 7 columns):\n",
      " #   Column   Non-Null Count  Dtype\n",
      "---  ------   --------------  -----\n",
      " 0   agecat   18300 non-null  int64\n",
      " 1   racecat  18300 non-null  int64\n",
      " 2   sexcat   18300 non-null  int64\n",
      " 3   iprcat   18300 non-null  int64\n",
      " 4   NIPR     18300 non-null  int64\n",
      " 5   NUI      18300 non-null  int64\n",
      " 6   NIC      18300 non-null  int64\n",
      "dtypes: int64(7)\n",
      "memory usage: 1000.9 KB\n"
     ]
    }
   ],
   "source": [
    "rawnumberscleandf.info()"
   ]
  },
  {
   "cell_type": "code",
   "execution_count": 41,
   "id": "91171c0f",
   "metadata": {},
   "outputs": [],
   "source": [
    "numberindf = rawnumberscleandf.drop(['NUI'],axis=1)"
   ]
  },
  {
   "cell_type": "code",
   "execution_count": 43,
   "id": "6552babe",
   "metadata": {},
   "outputs": [],
   "source": [
    "numberundf = rawnumberscleandf.drop(['NIC'],axis=1)"
   ]
  },
  {
   "cell_type": "code",
   "execution_count": 44,
   "id": "672a0731",
   "metadata": {},
   "outputs": [
    {
     "name": "stdout",
     "output_type": "stream",
     "text": [
      "<class 'pandas.core.frame.DataFrame'>\n",
      "RangeIndex: 18300 entries, 0 to 18299\n",
      "Data columns (total 6 columns):\n",
      " #   Column   Non-Null Count  Dtype\n",
      "---  ------   --------------  -----\n",
      " 0   agecat   18300 non-null  int64\n",
      " 1   racecat  18300 non-null  int64\n",
      " 2   sexcat   18300 non-null  int64\n",
      " 3   iprcat   18300 non-null  int64\n",
      " 4   NIPR     18300 non-null  int64\n",
      " 5   NUI      18300 non-null  int64\n",
      "dtypes: int64(6)\n",
      "memory usage: 857.9 KB\n"
     ]
    }
   ],
   "source": [
    "numberundf.info()"
   ]
  },
  {
   "cell_type": "code",
   "execution_count": 45,
   "id": "58e4825b",
   "metadata": {},
   "outputs": [
    {
     "name": "stdout",
     "output_type": "stream",
     "text": [
      "<class 'pandas.core.frame.DataFrame'>\n",
      "RangeIndex: 18300 entries, 0 to 18299\n",
      "Data columns (total 6 columns):\n",
      " #   Column   Non-Null Count  Dtype\n",
      "---  ------   --------------  -----\n",
      " 0   agecat   18300 non-null  int64\n",
      " 1   racecat  18300 non-null  int64\n",
      " 2   sexcat   18300 non-null  int64\n",
      " 3   iprcat   18300 non-null  int64\n",
      " 4   NIPR     18300 non-null  int64\n",
      " 5   NIC      18300 non-null  int64\n",
      "dtypes: int64(6)\n",
      "memory usage: 857.9 KB\n"
     ]
    }
   ],
   "source": [
    "numberindf.info()"
   ]
  },
  {
   "cell_type": "code",
   "execution_count": 46,
   "id": "13fe12aa",
   "metadata": {},
   "outputs": [
    {
     "data": {
      "text/plain": [
       "'\\nSo now I will run regression on the all four datasets\\n'"
      ]
     },
     "execution_count": 46,
     "metadata": {},
     "output_type": "execute_result"
    }
   ],
   "source": [
    "'''\n",
    "So now I will run regression on the all four datasets\n",
    "'''"
   ]
  },
  {
   "cell_type": "code",
   "execution_count": 47,
   "id": "3e5d6c48",
   "metadata": {},
   "outputs": [],
   "source": [
    "#percent not insured"
   ]
  },
  {
   "cell_type": "code",
   "execution_count": 48,
   "id": "fc60217a",
   "metadata": {},
   "outputs": [],
   "source": [
    "from sklearn.model_selection import train_test_split\n",
    "from sklearn.linear_model import LinearRegression"
   ]
  },
  {
   "cell_type": "code",
   "execution_count": 99,
   "id": "b8003efd",
   "metadata": {},
   "outputs": [],
   "source": [
    "y_0 = pcnotdf['PCTUI']\n",
    "X_0 = pcnotdf.drop(['PCTUI'],axis=1)\n",
    "\n",
    "X_0_train, X_0_test, y_0_train, y_0_test = train_test_split(X_0, y_0, random_state=179)\n",
    "\n",
    "model_0 = LinearRegression()"
   ]
  },
  {
   "cell_type": "code",
   "execution_count": 100,
   "id": "a65e1b48",
   "metadata": {},
   "outputs": [
    {
     "data": {
      "text/plain": [
       "LinearRegression()"
      ]
     },
     "execution_count": 100,
     "metadata": {},
     "output_type": "execute_result"
    }
   ],
   "source": [
    "model_0.fit(X_0_train,y_0_train)"
   ]
  },
  {
   "cell_type": "code",
   "execution_count": 101,
   "id": "288fd6f4",
   "metadata": {},
   "outputs": [
    {
     "data": {
      "text/plain": [
       "0.4669729537175419"
      ]
     },
     "execution_count": 101,
     "metadata": {},
     "output_type": "execute_result"
    }
   ],
   "source": [
    "model_0.score(X_0_test, y_0_test)"
   ]
  },
  {
   "cell_type": "code",
   "execution_count": 102,
   "id": "9fda10e8",
   "metadata": {},
   "outputs": [
    {
     "name": "stdout",
     "output_type": "stream",
     "text": [
      "Weight coefficients:  [ 0.43894092  1.54528698 -0.46939159  0.71186194  0.89516639]\n"
     ]
    }
   ],
   "source": [
    "print('Weight coefficients: ', model_0.coef_)"
   ]
  },
  {
   "cell_type": "code",
   "execution_count": 103,
   "id": "55b1cf83",
   "metadata": {},
   "outputs": [
    {
     "name": "stdout",
     "output_type": "stream",
     "text": [
      "Our Equation is y = 6.284640217022945 + ( 0.4389 X0 )+\n",
      "( 1.5453 X1 )+\n",
      "( -0.4694 X2 )+\n",
      "( 0.7119 X3 )+\n",
      "( 0.8952 X4 )+\n",
      "\n"
     ]
    }
   ],
   "source": [
    "X_0_string = \"\"\n",
    "count = 0\n",
    "for i, coef in enumerate(model_0.coef_):\n",
    "    X_0_string += f\"( {round(coef,4)} X{i} )+\\n\"\n",
    "equation = f'Our Equation is y = {model_0.intercept_} + {X_0_string}'\n",
    "print(equation)"
   ]
  },
  {
   "cell_type": "code",
   "execution_count": null,
   "id": "4ad9b260",
   "metadata": {},
   "outputs": [],
   "source": [
    "#percent is insured"
   ]
  },
  {
   "cell_type": "code",
   "execution_count": 108,
   "id": "69171f92",
   "metadata": {},
   "outputs": [],
   "source": [
    "y_1 = pcisindf['PCTIC']\n",
    "X_1 = pcisindf.drop(['PCTIC'],axis=1)\n",
    "\n",
    "X_1_train, X_1_test, y_1_train, y_1_test = train_test_split(X_1, y_1, random_state=1789)\n",
    "\n",
    "model_1 = LinearRegression()"
   ]
  },
  {
   "cell_type": "code",
   "execution_count": 109,
   "id": "d67ba18e",
   "metadata": {},
   "outputs": [
    {
     "data": {
      "text/plain": [
       "LinearRegression()"
      ]
     },
     "execution_count": 109,
     "metadata": {},
     "output_type": "execute_result"
    }
   ],
   "source": [
    "model_1.fit(X_1_train,y_1_train)"
   ]
  },
  {
   "cell_type": "code",
   "execution_count": 110,
   "id": "9ccd2024",
   "metadata": {},
   "outputs": [
    {
     "data": {
      "text/plain": [
       "0.37667497606399425"
      ]
     },
     "execution_count": 110,
     "metadata": {},
     "output_type": "execute_result"
    }
   ],
   "source": [
    "model_1.score(X_1_test, y_1_test)"
   ]
  },
  {
   "cell_type": "code",
   "execution_count": 111,
   "id": "f7500baa",
   "metadata": {},
   "outputs": [
    {
     "name": "stdout",
     "output_type": "stream",
     "text": [
      "Our Equation is y = 79.01948554571523 + ( -0.456 X0 )+\n",
      "( -4.5707 X1 )+\n",
      "( 0.6807 X2 )+\n",
      "( 0.9576 X3 )+\n",
      "( 0.1811 X4 )+\n",
      "\n"
     ]
    }
   ],
   "source": [
    "X_1_string = \"\"\n",
    "count = 0\n",
    "for i, coef in enumerate(model_1.coef_):\n",
    "    X_1_string += f\"( {round(coef,4)} X{i} )+\\n\"\n",
    "equation = f'Our Equation is y = {model_1.intercept_} + {X_1_string}'\n",
    "print(equation)"
   ]
  },
  {
   "cell_type": "code",
   "execution_count": 112,
   "id": "926f508c",
   "metadata": {},
   "outputs": [],
   "source": [
    "# number uninsured"
   ]
  },
  {
   "cell_type": "code",
   "execution_count": 116,
   "id": "ef160d1f",
   "metadata": {},
   "outputs": [],
   "source": [
    "y_2 = numberundf['NUI']\n",
    "X_2 = numberundf.drop(['NUI'],axis=1)\n",
    "\n",
    "X_2_train, X_2_test, y_2_train, y_2_test = train_test_split(X_2, y_2, random_state=789)\n",
    "\n",
    "model_2 = LinearRegression()"
   ]
  },
  {
   "cell_type": "code",
   "execution_count": 117,
   "id": "cf0b0d56",
   "metadata": {},
   "outputs": [
    {
     "data": {
      "text/plain": [
       "LinearRegression()"
      ]
     },
     "execution_count": 117,
     "metadata": {},
     "output_type": "execute_result"
    }
   ],
   "source": [
    "model_2.fit(X_2_train,y_2_train)"
   ]
  },
  {
   "cell_type": "code",
   "execution_count": 118,
   "id": "00bdc439",
   "metadata": {},
   "outputs": [
    {
     "data": {
      "text/plain": [
       "0.7389503053067509"
      ]
     },
     "execution_count": 118,
     "metadata": {},
     "output_type": "execute_result"
    }
   ],
   "source": [
    "model_2.score(X_2_test, y_2_test)"
   ]
  },
  {
   "cell_type": "code",
   "execution_count": 119,
   "id": "ec410f43",
   "metadata": {},
   "outputs": [
    {
     "name": "stdout",
     "output_type": "stream",
     "text": [
      "Our Equation is y = -29387.320502649804 + ( 2099.0484 X0 )+\n",
      "( 10113.9949 X1 )+\n",
      "( -2190.1511 X2 )+\n",
      "( 5140.1401 X3 )+\n",
      "( 0.158 X4 )+\n",
      "\n"
     ]
    }
   ],
   "source": [
    "X_2_string = \"\"\n",
    "count = 0\n",
    "for i, coef in enumerate(model_2.coef_):\n",
    "    X_2_string += f\"( {round(coef,4)} X{i} )+\\n\"\n",
    "equation = f'Our Equation is y = {model_2.intercept_} + {X_2_string}'\n",
    "print(equation)"
   ]
  },
  {
   "cell_type": "code",
   "execution_count": 120,
   "id": "84e2eab0",
   "metadata": {},
   "outputs": [],
   "source": [
    "# number insured"
   ]
  },
  {
   "cell_type": "code",
   "execution_count": 129,
   "id": "546d98dd",
   "metadata": {},
   "outputs": [],
   "source": [
    "y_3 = numberindf['NIC']\n",
    "X_3 = numberindf.drop(['NIC'],axis=1)\n",
    "\n",
    "X_3_train, X_3_test, y_3_train, y_3_test = train_test_split(X_3, y_3, random_state=987)\n",
    "\n",
    "model_3 = LinearRegression()"
   ]
  },
  {
   "cell_type": "code",
   "execution_count": 130,
   "id": "8b5832ed",
   "metadata": {},
   "outputs": [
    {
     "data": {
      "text/plain": [
       "LinearRegression()"
      ]
     },
     "execution_count": 130,
     "metadata": {},
     "output_type": "execute_result"
    }
   ],
   "source": [
    "model_3.fit(X_3_train,y_3_train)"
   ]
  },
  {
   "cell_type": "code",
   "execution_count": 131,
   "id": "1ae3d2ed",
   "metadata": {},
   "outputs": [
    {
     "data": {
      "text/plain": [
       "0.9899188509282408"
      ]
     },
     "execution_count": 131,
     "metadata": {},
     "output_type": "execute_result"
    }
   ],
   "source": [
    "model_3.score(X_3_test, y_3_test)"
   ]
  },
  {
   "cell_type": "code",
   "execution_count": 132,
   "id": "015dc7ac",
   "metadata": {},
   "outputs": [
    {
     "name": "stdout",
     "output_type": "stream",
     "text": [
      "Our Equation is y = 25737.04279410903 + ( -1625.6325 X0 )+\n",
      "( -9017.0282 X1 )+\n",
      "( 2321.6682 X2 )+\n",
      "( -5203.1369 X3 )+\n",
      "( 0.8467 X4 )+\n",
      "\n"
     ]
    }
   ],
   "source": [
    "X_3_string = \"\"\n",
    "count = 0\n",
    "for i, coef in enumerate(model_3.coef_):\n",
    "    X_3_string += f\"( {round(coef,4)} X{i} )+\\n\"\n",
    "equation = f'Our Equation is y = {model_3.intercept_} + {X_3_string}'\n",
    "print(equation)"
   ]
  },
  {
   "cell_type": "code",
   "execution_count": 133,
   "id": "134c7469",
   "metadata": {},
   "outputs": [],
   "source": [
    "'''\n",
    "I think that maybe these tests measure more of the correlation of the hard data than\n",
    "the correlation with race sex age etc...\n",
    "\n",
    "So I'm doing a naive bayes first on number insured then on uninsured\n",
    "'''"
   ]
  },
  {
   "cell_type": "code",
   "execution_count": 142,
   "id": "f7e1efaf",
   "metadata": {},
   "outputs": [
    {
     "name": "stdout",
     "output_type": "stream",
     "text": [
      "<class 'pandas.core.frame.DataFrame'>\n",
      "RangeIndex: 18300 entries, 0 to 18299\n",
      "Data columns (total 6 columns):\n",
      " #   Column   Non-Null Count  Dtype\n",
      "---  ------   --------------  -----\n",
      " 0   agecat   18300 non-null  int64\n",
      " 1   racecat  18300 non-null  int64\n",
      " 2   sexcat   18300 non-null  int64\n",
      " 3   iprcat   18300 non-null  int64\n",
      " 4   NIPR     18300 non-null  int64\n",
      " 5   NIC      18300 non-null  int64\n",
      "dtypes: int64(6)\n",
      "memory usage: 857.9 KB\n"
     ]
    }
   ],
   "source": [
    "numberindf.info()\n"
   ]
  },
  {
   "cell_type": "code",
   "execution_count": 168,
   "id": "0b5b02b8",
   "metadata": {},
   "outputs": [],
   "source": [
    "from sklearn.naive_bayes import GaussianNB\n",
    "from sklearn import metrics\n",
    "\n",
    "y_4 = (numberindf['NIC']/10000).astype('int')*10000\n",
    "\n",
    "X_4 = numberindf.drop(['NIC'],axis=1)\n",
    "\n",
    "'''\n",
    "I'm going to rename all zeros to -1 to avoid absolute destruction aka dividing by 0\n",
    "'''\n",
    "\n",
    "X_4.replace(to_replace=0,value=-1,inplace=True)\n",
    "\n",
    "X_4_train, X_4_test, y_4_train, y_4_test = train_test_split(X_4, y_4, random_state=758)\n",
    "\n",
    "model_4 = GaussianNB()"
   ]
  },
  {
   "cell_type": "code",
   "execution_count": 169,
   "id": "2e25c729",
   "metadata": {},
   "outputs": [
    {
     "data": {
      "text/plain": [
       "GaussianNB()"
      ]
     },
     "execution_count": 169,
     "metadata": {},
     "output_type": "execute_result"
    }
   ],
   "source": [
    "model_4.fit(X_4_train,y_4_train)"
   ]
  },
  {
   "cell_type": "code",
   "execution_count": 170,
   "id": "1fa6b69e",
   "metadata": {},
   "outputs": [],
   "source": [
    "y_4_predict = model_4.predict(X_4_test)"
   ]
  },
  {
   "cell_type": "code",
   "execution_count": 171,
   "id": "e85b2b1a",
   "metadata": {},
   "outputs": [
    {
     "data": {
      "text/plain": [
       "0.37136612021857923"
      ]
     },
     "execution_count": 171,
     "metadata": {},
     "output_type": "execute_result"
    }
   ],
   "source": [
    "metrics.accuracy_score(y_4_test, y_4_predict)"
   ]
  },
  {
   "cell_type": "code",
   "execution_count": 172,
   "id": "3cb8d652",
   "metadata": {},
   "outputs": [
    {
     "ename": "ValueError",
     "evalue": "Target is multiclass but average='binary'. Please choose another average setting, one of [None, 'micro', 'macro', 'weighted'].",
     "output_type": "error",
     "traceback": [
      "\u001b[1;31m---------------------------------------------------------------------------\u001b[0m",
      "\u001b[1;31mValueError\u001b[0m                                Traceback (most recent call last)",
      "\u001b[1;32m<ipython-input-172-997e56ecb557>\u001b[0m in \u001b[0;36m<module>\u001b[1;34m\u001b[0m\n\u001b[1;32m----> 1\u001b[1;33m \u001b[0mmetrics\u001b[0m\u001b[1;33m.\u001b[0m\u001b[0mprecision_score\u001b[0m\u001b[1;33m(\u001b[0m\u001b[0my_4_test\u001b[0m\u001b[1;33m,\u001b[0m \u001b[0my_4_predict\u001b[0m\u001b[1;33m)\u001b[0m\u001b[1;33m\u001b[0m\u001b[1;33m\u001b[0m\u001b[0m\n\u001b[0m",
      "\u001b[1;32m~\\miniconda3\\lib\\site-packages\\sklearn\\utils\\validation.py\u001b[0m in \u001b[0;36minner_f\u001b[1;34m(*args, **kwargs)\u001b[0m\n\u001b[0;32m     61\u001b[0m             \u001b[0mextra_args\u001b[0m \u001b[1;33m=\u001b[0m \u001b[0mlen\u001b[0m\u001b[1;33m(\u001b[0m\u001b[0margs\u001b[0m\u001b[1;33m)\u001b[0m \u001b[1;33m-\u001b[0m \u001b[0mlen\u001b[0m\u001b[1;33m(\u001b[0m\u001b[0mall_args\u001b[0m\u001b[1;33m)\u001b[0m\u001b[1;33m\u001b[0m\u001b[1;33m\u001b[0m\u001b[0m\n\u001b[0;32m     62\u001b[0m             \u001b[1;32mif\u001b[0m \u001b[0mextra_args\u001b[0m \u001b[1;33m<=\u001b[0m \u001b[1;36m0\u001b[0m\u001b[1;33m:\u001b[0m\u001b[1;33m\u001b[0m\u001b[1;33m\u001b[0m\u001b[0m\n\u001b[1;32m---> 63\u001b[1;33m                 \u001b[1;32mreturn\u001b[0m \u001b[0mf\u001b[0m\u001b[1;33m(\u001b[0m\u001b[1;33m*\u001b[0m\u001b[0margs\u001b[0m\u001b[1;33m,\u001b[0m \u001b[1;33m**\u001b[0m\u001b[0mkwargs\u001b[0m\u001b[1;33m)\u001b[0m\u001b[1;33m\u001b[0m\u001b[1;33m\u001b[0m\u001b[0m\n\u001b[0m\u001b[0;32m     64\u001b[0m \u001b[1;33m\u001b[0m\u001b[0m\n\u001b[0;32m     65\u001b[0m             \u001b[1;31m# extra_args > 0\u001b[0m\u001b[1;33m\u001b[0m\u001b[1;33m\u001b[0m\u001b[1;33m\u001b[0m\u001b[0m\n",
      "\u001b[1;32m~\\miniconda3\\lib\\site-packages\\sklearn\\metrics\\_classification.py\u001b[0m in \u001b[0;36mprecision_score\u001b[1;34m(y_true, y_pred, labels, pos_label, average, sample_weight, zero_division)\u001b[0m\n\u001b[0;32m   1654\u001b[0m \u001b[1;33m\u001b[0m\u001b[0m\n\u001b[0;32m   1655\u001b[0m     \"\"\"\n\u001b[1;32m-> 1656\u001b[1;33m     p, _, _, _ = precision_recall_fscore_support(y_true, y_pred,\n\u001b[0m\u001b[0;32m   1657\u001b[0m                                                  \u001b[0mlabels\u001b[0m\u001b[1;33m=\u001b[0m\u001b[0mlabels\u001b[0m\u001b[1;33m,\u001b[0m\u001b[1;33m\u001b[0m\u001b[1;33m\u001b[0m\u001b[0m\n\u001b[0;32m   1658\u001b[0m                                                  \u001b[0mpos_label\u001b[0m\u001b[1;33m=\u001b[0m\u001b[0mpos_label\u001b[0m\u001b[1;33m,\u001b[0m\u001b[1;33m\u001b[0m\u001b[1;33m\u001b[0m\u001b[0m\n",
      "\u001b[1;32m~\\miniconda3\\lib\\site-packages\\sklearn\\utils\\validation.py\u001b[0m in \u001b[0;36minner_f\u001b[1;34m(*args, **kwargs)\u001b[0m\n\u001b[0;32m     61\u001b[0m             \u001b[0mextra_args\u001b[0m \u001b[1;33m=\u001b[0m \u001b[0mlen\u001b[0m\u001b[1;33m(\u001b[0m\u001b[0margs\u001b[0m\u001b[1;33m)\u001b[0m \u001b[1;33m-\u001b[0m \u001b[0mlen\u001b[0m\u001b[1;33m(\u001b[0m\u001b[0mall_args\u001b[0m\u001b[1;33m)\u001b[0m\u001b[1;33m\u001b[0m\u001b[1;33m\u001b[0m\u001b[0m\n\u001b[0;32m     62\u001b[0m             \u001b[1;32mif\u001b[0m \u001b[0mextra_args\u001b[0m \u001b[1;33m<=\u001b[0m \u001b[1;36m0\u001b[0m\u001b[1;33m:\u001b[0m\u001b[1;33m\u001b[0m\u001b[1;33m\u001b[0m\u001b[0m\n\u001b[1;32m---> 63\u001b[1;33m                 \u001b[1;32mreturn\u001b[0m \u001b[0mf\u001b[0m\u001b[1;33m(\u001b[0m\u001b[1;33m*\u001b[0m\u001b[0margs\u001b[0m\u001b[1;33m,\u001b[0m \u001b[1;33m**\u001b[0m\u001b[0mkwargs\u001b[0m\u001b[1;33m)\u001b[0m\u001b[1;33m\u001b[0m\u001b[1;33m\u001b[0m\u001b[0m\n\u001b[0m\u001b[0;32m     64\u001b[0m \u001b[1;33m\u001b[0m\u001b[0m\n\u001b[0;32m     65\u001b[0m             \u001b[1;31m# extra_args > 0\u001b[0m\u001b[1;33m\u001b[0m\u001b[1;33m\u001b[0m\u001b[1;33m\u001b[0m\u001b[0m\n",
      "\u001b[1;32m~\\miniconda3\\lib\\site-packages\\sklearn\\metrics\\_classification.py\u001b[0m in \u001b[0;36mprecision_recall_fscore_support\u001b[1;34m(y_true, y_pred, beta, labels, pos_label, average, warn_for, sample_weight, zero_division)\u001b[0m\n\u001b[0;32m   1462\u001b[0m     \u001b[1;32mif\u001b[0m \u001b[0mbeta\u001b[0m \u001b[1;33m<\u001b[0m \u001b[1;36m0\u001b[0m\u001b[1;33m:\u001b[0m\u001b[1;33m\u001b[0m\u001b[1;33m\u001b[0m\u001b[0m\n\u001b[0;32m   1463\u001b[0m         \u001b[1;32mraise\u001b[0m \u001b[0mValueError\u001b[0m\u001b[1;33m(\u001b[0m\u001b[1;34m\"beta should be >=0 in the F-beta score\"\u001b[0m\u001b[1;33m)\u001b[0m\u001b[1;33m\u001b[0m\u001b[1;33m\u001b[0m\u001b[0m\n\u001b[1;32m-> 1464\u001b[1;33m     labels = _check_set_wise_labels(y_true, y_pred, average, labels,\n\u001b[0m\u001b[0;32m   1465\u001b[0m                                     pos_label)\n\u001b[0;32m   1466\u001b[0m \u001b[1;33m\u001b[0m\u001b[0m\n",
      "\u001b[1;32m~\\miniconda3\\lib\\site-packages\\sklearn\\metrics\\_classification.py\u001b[0m in \u001b[0;36m_check_set_wise_labels\u001b[1;34m(y_true, y_pred, average, labels, pos_label)\u001b[0m\n\u001b[0;32m   1292\u001b[0m             \u001b[1;32mif\u001b[0m \u001b[0my_type\u001b[0m \u001b[1;33m==\u001b[0m \u001b[1;34m'multiclass'\u001b[0m\u001b[1;33m:\u001b[0m\u001b[1;33m\u001b[0m\u001b[1;33m\u001b[0m\u001b[0m\n\u001b[0;32m   1293\u001b[0m                 \u001b[0maverage_options\u001b[0m\u001b[1;33m.\u001b[0m\u001b[0mremove\u001b[0m\u001b[1;33m(\u001b[0m\u001b[1;34m'samples'\u001b[0m\u001b[1;33m)\u001b[0m\u001b[1;33m\u001b[0m\u001b[1;33m\u001b[0m\u001b[0m\n\u001b[1;32m-> 1294\u001b[1;33m             raise ValueError(\"Target is %s but average='binary'. Please \"\n\u001b[0m\u001b[0;32m   1295\u001b[0m                              \u001b[1;34m\"choose another average setting, one of %r.\"\u001b[0m\u001b[1;33m\u001b[0m\u001b[1;33m\u001b[0m\u001b[0m\n\u001b[0;32m   1296\u001b[0m                              % (y_type, average_options))\n",
      "\u001b[1;31mValueError\u001b[0m: Target is multiclass but average='binary'. Please choose another average setting, one of [None, 'micro', 'macro', 'weighted']."
     ]
    }
   ],
   "source": [
    "#metrics.precision_score(y_4_test, y_4_predict) is broken"
   ]
  },
  {
   "cell_type": "code",
   "execution_count": 173,
   "id": "d708a117",
   "metadata": {},
   "outputs": [
    {
     "name": "stdout",
     "output_type": "stream",
     "text": [
      "              precision    recall  f1-score   support\n",
      "\n",
      "           0       0.97      0.97      0.97       693\n",
      "       10000       0.79      0.84      0.81       329\n",
      "       20000       0.62      0.62      0.62       225\n",
      "       30000       0.55      0.56      0.55       207\n",
      "       40000       0.41      0.47      0.44       178\n",
      "       50000       0.40      0.29      0.34       128\n",
      "       60000       0.35      0.40      0.38       126\n",
      "       70000       0.23      0.19      0.21       114\n",
      "       80000       0.29      0.33      0.30       104\n",
      "       90000       0.25      0.34      0.29       103\n",
      "      100000       0.20      0.01      0.02        83\n",
      "      110000       0.28      0.42      0.34        69\n",
      "      120000       0.25      0.30      0.28        89\n",
      "      130000       0.15      0.20      0.17        56\n",
      "      140000       0.12      0.03      0.05        60\n",
      "      150000       0.25      0.31      0.28        67\n",
      "      160000       0.00      0.00      0.00        60\n",
      "      170000       0.17      0.30      0.22        54\n",
      "      180000       0.03      0.02      0.03        42\n",
      "      190000       0.14      0.21      0.16        48\n",
      "      200000       0.08      0.08      0.08        59\n",
      "      210000       0.00      0.00      0.00        46\n",
      "      220000       0.16      0.18      0.17        39\n",
      "      230000       0.00      0.00      0.00        44\n",
      "      240000       0.17      0.33      0.23        45\n",
      "      250000       0.07      0.12      0.09        34\n",
      "      260000       0.00      0.00      0.00        35\n",
      "      270000       0.09      0.13      0.10        31\n",
      "      280000       0.00      0.00      0.00        32\n",
      "      290000       0.00      0.00      0.00        45\n",
      "      300000       0.11      0.37      0.17        27\n",
      "      310000       0.00      0.00      0.00        34\n",
      "      320000       0.08      0.30      0.13        30\n",
      "      330000       0.00      0.00      0.00        20\n",
      "      340000       0.00      0.00      0.00        29\n",
      "      350000       0.00      0.00      0.00        20\n",
      "      360000       0.05      0.04      0.05        23\n",
      "      370000       0.00      0.00      0.00        35\n",
      "      380000       0.06      0.31      0.10        16\n",
      "      390000       0.00      0.00      0.00        26\n",
      "      400000       0.00      0.00      0.00        22\n",
      "      410000       0.00      0.00      0.00        19\n",
      "      420000       0.05      0.21      0.08        19\n",
      "      430000       0.25      0.17      0.20        18\n",
      "      440000       0.00      0.00      0.00        19\n",
      "      450000       0.14      0.18      0.15        17\n",
      "      460000       0.00      0.00      0.00        20\n",
      "      470000       0.07      0.19      0.10        16\n",
      "      480000       0.00      0.00      0.00        21\n",
      "      490000       0.05      0.27      0.09        11\n",
      "      500000       0.00      0.00      0.00        12\n",
      "      510000       0.00      0.00      0.00        12\n",
      "      520000       0.00      0.00      0.00        17\n",
      "      530000       0.00      0.00      0.00        10\n",
      "      540000       0.03      0.09      0.04        11\n",
      "      550000       0.00      0.00      0.00        15\n",
      "      560000       0.00      0.00      0.00        16\n",
      "      570000       0.07      0.27      0.11        11\n",
      "      580000       0.00      0.00      0.00         9\n",
      "      590000       0.00      0.00      0.00        10\n",
      "      600000       0.02      0.10      0.04        10\n",
      "      610000       0.00      0.00      0.00        19\n",
      "      620000       0.00      0.00      0.00        16\n",
      "      630000       0.00      0.00      0.00        10\n",
      "      640000       0.09      0.33      0.14        12\n",
      "      650000       0.00      0.00      0.00        12\n",
      "      660000       0.00      0.00      0.00        13\n",
      "      670000       0.00      0.00      0.00        12\n",
      "      680000       0.00      0.00      0.00        10\n",
      "      690000       0.00      0.00      0.00         8\n",
      "      700000       0.00      0.00      0.00        13\n",
      "      710000       0.08      0.45      0.13        11\n",
      "      720000       0.00      0.00      0.00        18\n",
      "      730000       0.00      0.00      0.00         7\n",
      "      740000       0.00      0.00      0.00         7\n",
      "      750000       0.00      0.00      0.00         5\n",
      "      760000       0.05      0.20      0.08         5\n",
      "      770000       0.00      0.00      0.00         8\n",
      "      780000       0.00      0.00      0.00         9\n",
      "      790000       0.00      0.00      0.00         6\n",
      "      800000       0.14      0.31      0.19        13\n",
      "      810000       0.00      0.00      0.00        14\n",
      "      820000       0.00      0.00      0.00         7\n",
      "      830000       0.05      0.60      0.08         5\n",
      "      840000       0.20      0.14      0.17         7\n",
      "      850000       0.00      0.00      0.00         6\n",
      "      860000       0.00      0.00      0.00         2\n",
      "      870000       0.00      0.00      0.00         9\n",
      "      880000       0.00      0.00      0.00         9\n",
      "      890000       0.00      0.00      0.00         9\n",
      "      900000       0.00      0.00      0.00         7\n",
      "      910000       0.00      0.00      0.00         4\n",
      "      920000       0.00      0.00      0.00         4\n",
      "      930000       0.11      0.47      0.18        15\n",
      "      940000       0.00      0.00      0.00        10\n",
      "      950000       0.00      0.00      0.00         2\n",
      "      960000       0.00      0.00      0.00        10\n",
      "      970000       0.00      0.00      0.00         4\n",
      "      980000       0.00      0.00      0.00         6\n",
      "      990000       0.00      0.00      0.00         3\n",
      "     1000000       0.00      0.00      0.00         4\n",
      "     1010000       0.00      0.00      0.00         6\n",
      "     1020000       0.00      0.00      0.00         5\n",
      "     1030000       0.00      0.00      0.00         8\n",
      "     1040000       0.00      0.00      0.00         2\n",
      "     1050000       0.00      0.00      0.00         6\n",
      "     1060000       0.02      0.25      0.03         4\n",
      "     1070000       0.00      0.00      0.00         6\n",
      "     1080000       0.00      0.00      0.00         7\n",
      "     1090000       0.00      0.00      0.00         3\n",
      "     1100000       0.00      0.00      0.00         4\n",
      "     1110000       0.00      0.00      0.00         4\n",
      "     1120000       0.05      0.40      0.10         5\n",
      "     1130000       0.00      0.00      0.00         5\n",
      "     1140000       0.00      0.00      0.00         3\n",
      "     1150000       0.00      0.00      0.00         3\n",
      "     1160000       0.00      0.00      0.00         4\n",
      "     1170000       0.00      0.00      0.00         1\n",
      "     1180000       0.00      0.00      0.00         2\n",
      "     1190000       0.00      0.00      0.00         4\n",
      "     1200000       0.00      0.00      0.00         3\n",
      "     1210000       0.00      0.00      0.00         5\n",
      "     1220000       0.00      0.00      0.00         3\n",
      "     1230000       0.00      0.00      0.00         5\n",
      "     1250000       0.00      0.00      0.00         1\n",
      "     1260000       0.05      1.00      0.09         1\n",
      "     1270000       0.00      0.00      0.00         2\n",
      "     1280000       0.00      0.00      0.00         1\n",
      "     1290000       0.17      0.33      0.22         3\n",
      "     1300000       0.00      0.00      0.00         2\n",
      "     1310000       0.00      0.00      0.00         3\n",
      "     1320000       0.00      0.00      0.00         1\n",
      "     1330000       0.00      0.00      0.00         4\n",
      "     1340000       0.00      0.00      0.00         2\n",
      "     1350000       0.00      0.00      0.00         5\n",
      "     1360000       0.00      0.00      0.00         2\n",
      "     1370000       0.00      0.00      0.00         2\n",
      "     1380000       0.00      0.00      0.00         2\n",
      "     1400000       0.00      0.00      0.00         5\n",
      "     1410000       0.00      0.00      0.00         3\n",
      "     1420000       0.00      0.00      0.00         1\n",
      "     1430000       0.00      0.00      0.00         3\n",
      "     1440000       0.00      0.00      0.00         2\n",
      "     1450000       0.00      0.00      0.00         2\n",
      "     1460000       0.00      0.00      0.00         5\n",
      "     1470000       0.00      0.00      0.00         4\n",
      "     1480000       0.00      0.00      0.00         4\n",
      "     1490000       0.00      0.00      0.00         4\n",
      "     1500000       0.00      0.00      0.00         3\n",
      "     1510000       0.00      0.00      0.00         3\n",
      "     1530000       0.06      0.50      0.11         2\n",
      "     1540000       0.00      0.00      0.00         2\n",
      "     1550000       0.00      0.00      0.00         1\n",
      "     1560000       0.00      0.00      0.00         2\n",
      "     1570000       0.00      0.00      0.00         2\n",
      "     1590000       0.00      0.00      0.00         5\n",
      "     1600000       0.00      0.00      0.00         1\n",
      "     1610000       0.00      0.00      0.00         2\n",
      "     1620000       0.00      0.00      0.00         2\n",
      "     1630000       0.00      0.00      0.00         1\n",
      "     1640000       0.00      0.00      0.00         3\n",
      "     1650000       0.00      0.00      0.00         2\n",
      "     1660000       0.00      0.00      0.00         2\n",
      "     1670000       0.00      0.00      0.00         2\n",
      "     1680000       0.00      0.00      0.00         3\n",
      "     1690000       0.00      0.00      0.00         5\n",
      "     1700000       0.00      0.00      0.00         2\n",
      "     1710000       0.00      0.00      0.00         3\n",
      "     1720000       0.00      0.00      0.00         4\n",
      "     1730000       0.00      0.00      0.00         1\n",
      "     1740000       0.00      0.00      0.00         1\n",
      "     1750000       0.00      0.00      0.00         2\n",
      "     1760000       0.00      0.00      0.00         0\n",
      "     1770000       0.00      0.00      0.00         1\n",
      "     1780000       0.00      0.00      0.00         3\n",
      "     1790000       0.00      0.00      0.00         1\n",
      "     1800000       0.00      0.00      0.00         1\n",
      "     1810000       0.00      0.00      0.00         2\n",
      "     1820000       0.00      0.00      0.00         4\n",
      "     1830000       0.00      0.00      0.00         4\n",
      "     1840000       0.00      0.00      0.00         1\n",
      "     1850000       0.00      0.00      0.00         4\n",
      "     1860000       0.00      0.00      0.00         3\n",
      "     1870000       0.00      0.00      0.00         2\n",
      "     1880000       0.00      0.00      0.00         0\n",
      "     1890000       0.00      0.00      0.00         2\n",
      "     1900000       0.00      0.00      0.00         2\n",
      "     1930000       0.00      0.00      0.00         1\n",
      "     1940000       0.00      0.00      0.00         1\n",
      "     1960000       0.00      0.00      0.00         2\n",
      "     1970000       0.00      0.00      0.00         1\n",
      "     1990000       0.00      0.00      0.00         1\n",
      "     2000000       0.00      0.00      0.00         1\n",
      "     2020000       0.00      0.00      0.00         1\n",
      "     2040000       0.00      0.00      0.00         1\n",
      "     2050000       0.00      0.00      0.00         1\n",
      "     2060000       0.00      0.00      0.00         3\n",
      "     2070000       0.00      0.00      0.00         1\n",
      "     2080000       0.00      0.00      0.00         1\n",
      "     2090000       0.00      0.00      0.00         3\n",
      "     2100000       0.00      0.00      0.00         1\n",
      "     2130000       0.00      0.00      0.00         1\n",
      "     2150000       0.00      0.00      0.00         2\n",
      "     2160000       0.00      0.00      0.00         1\n",
      "     2170000       0.00      0.00      0.00         2\n",
      "     2180000       0.00      0.00      0.00         0\n",
      "     2190000       0.00      0.00      0.00         2\n",
      "     2200000       0.00      0.00      0.00         0\n",
      "     2220000       0.00      0.00      0.00         2\n",
      "     2230000       0.00      0.00      0.00         1\n",
      "     2240000       0.00      0.00      0.00         1\n",
      "     2250000       0.00      0.00      0.00         2\n",
      "     2260000       0.00      0.00      0.00         1\n",
      "     2280000       0.00      0.00      0.00         1\n",
      "     2300000       1.00      0.67      0.80         3\n",
      "     2320000       0.00      0.00      0.00         1\n",
      "     2330000       0.00      0.00      0.00         0\n",
      "     2340000       0.00      0.00      0.00         1\n",
      "     2360000       0.00      0.00      0.00         2\n",
      "     2370000       0.00      0.00      0.00         1\n",
      "     2380000       0.00      0.00      0.00         1\n",
      "     2390000       0.00      0.00      0.00         1\n",
      "     2420000       0.00      0.00      0.00         3\n",
      "     2440000       0.00      0.00      0.00         1\n",
      "     2450000       0.00      0.00      0.00         1\n",
      "     2460000       0.00      0.00      0.00         2\n",
      "     2470000       0.00      0.00      0.00         1\n",
      "     2480000       0.00      0.00      0.00         0\n",
      "     2490000       0.00      0.00      0.00         0\n",
      "     2500000       0.00      0.00      0.00         2\n",
      "     2530000       0.00      0.00      0.00         1\n",
      "     2540000       0.00      0.00      0.00         2\n",
      "     2550000       0.00      0.00      0.00         1\n",
      "     2580000       0.00      0.00      0.00         0\n",
      "     2590000       0.00      0.00      0.00         2\n",
      "     2610000       0.00      0.00      0.00         1\n",
      "     2620000       0.00      0.00      0.00         1\n",
      "     2630000       0.00      0.00      0.00         0\n",
      "     2640000       0.00      0.00      0.00         1\n",
      "     2650000       0.17      0.50      0.25         2\n",
      "     2660000       0.00      0.00      0.00         1\n",
      "     2670000       0.00      0.00      0.00         0\n",
      "     2680000       0.00      0.00      0.00         2\n",
      "     2690000       0.00      0.00      0.00         0\n",
      "     2700000       0.00      0.00      0.00         1\n",
      "     2710000       0.00      0.00      0.00         1\n",
      "     2730000       0.00      0.00      0.00         1\n",
      "     2740000       0.00      0.00      0.00         1\n",
      "     2750000       0.00      0.00      0.00         2\n",
      "     2810000       0.00      0.00      0.00         1\n",
      "     2830000       0.00      0.00      0.00         2\n",
      "     2860000       0.00      0.00      0.00         2\n",
      "     2870000       0.00      0.00      0.00         2\n",
      "     2890000       0.00      0.00      0.00         2\n",
      "     2910000       0.00      0.00      0.00         1\n",
      "     2920000       0.00      0.00      0.00         1\n",
      "     2950000       0.00      0.00      0.00         2\n",
      "     2980000       0.00      0.00      0.00         0\n",
      "     3000000       0.00      0.00      0.00         2\n",
      "     3010000       0.00      0.00      0.00         1\n",
      "     3060000       0.00      0.00      0.00         1\n",
      "     3080000       0.00      0.00      0.00         0\n",
      "     3170000       0.00      0.00      0.00         0\n",
      "     3240000       0.00      0.00      0.00         1\n",
      "     3260000       0.00      0.00      0.00         1\n",
      "     3280000       0.00      0.00      0.00         1\n",
      "     3310000       0.00      0.00      0.00         0\n",
      "     3350000       0.00      0.00      0.00         1\n",
      "     3380000       0.00      0.00      0.00         0\n",
      "     3390000       0.00      0.00      0.00         1\n",
      "     3400000       0.00      0.00      0.00         1\n",
      "     3410000       0.00      0.00      0.00         1\n",
      "     3430000       0.00      0.00      0.00         1\n",
      "     3450000       0.00      0.00      0.00         1\n",
      "     3460000       0.00      0.00      0.00         1\n",
      "     3470000       0.00      0.00      0.00         1\n",
      "     3480000       0.00      0.00      0.00         0\n",
      "     3530000       0.00      0.00      0.00         0\n",
      "     3540000       0.00      0.00      0.00         0\n",
      "     3550000       0.00      0.00      0.00         1\n",
      "     3570000       0.00      0.00      0.00         0\n",
      "     3580000       0.00      0.00      0.00         1\n",
      "     3590000       0.00      0.00      0.00         1\n",
      "     3600000       0.00      0.00      0.00         1\n",
      "     3620000       0.00      0.00      0.00         1\n",
      "     3640000       0.00      0.00      0.00         1\n",
      "     3650000       0.00      0.00      0.00         0\n",
      "     3680000       0.00      0.00      0.00         1\n",
      "     3770000       0.00      0.00      0.00         1\n",
      "     3810000       0.00      0.00      0.00         1\n",
      "     3850000       0.00      0.00      0.00         1\n",
      "     3880000       0.00      0.00      0.00         1\n",
      "     3950000       0.00      0.00      0.00         1\n",
      "     4010000       0.00      0.00      0.00         1\n",
      "     4030000       0.00      0.00      0.00         1\n",
      "     4050000       0.00      0.00      0.00         1\n",
      "     4060000       0.00      0.00      0.00         0\n",
      "     4110000       0.00      0.00      0.00         0\n",
      "     4120000       0.00      0.00      0.00         0\n",
      "     4350000       0.00      0.00      0.00         0\n",
      "     4360000       0.00      0.00      0.00         0\n",
      "     4410000       0.00      0.00      0.00         0\n",
      "     4530000       0.00      0.00      0.00         1\n",
      "     4670000       0.00      0.00      0.00         1\n",
      "     4680000       0.00      0.00      0.00         1\n",
      "     4740000       0.00      0.00      0.00         0\n",
      "     4760000       0.00      0.00      0.00         1\n",
      "     4950000       0.00      0.00      0.00         1\n",
      "     4980000       0.00      0.00      0.00         1\n",
      "     5000000       0.00      0.00      0.00         1\n",
      "     5090000       0.00      0.00      0.00         0\n",
      "     5110000       0.00      0.00      0.00         0\n",
      "     5170000       0.00      0.00      0.00         1\n",
      "     5300000       0.00      0.00      0.00         0\n",
      "     5320000       0.00      0.00      0.00         0\n",
      "     5330000       0.00      0.00      0.00         1\n",
      "     5360000       0.00      0.00      0.00         1\n",
      "     5380000       0.00      0.00      0.00         1\n",
      "     5510000       0.00      0.00      0.00         1\n",
      "     5740000       0.00      0.00      0.00         1\n",
      "     5820000       0.00      0.00      0.00         1\n",
      "     5970000       0.00      0.00      0.00         1\n",
      "     6020000       0.00      0.00      0.00         1\n",
      "     6100000       0.00      0.00      0.00         1\n",
      "     6170000       0.00      0.00      0.00         1\n",
      "     6370000       0.00      0.00      0.00         1\n",
      "     6590000       0.00      0.00      0.00         1\n",
      "     6660000       0.00      0.00      0.00         1\n",
      "     6690000       0.00      0.00      0.00         0\n",
      "     6930000       0.00      0.00      0.00         1\n",
      "     6940000       0.00      0.00      0.00         1\n",
      "     7180000       0.00      0.00      0.00         1\n",
      "     7730000       0.00      0.00      0.00         1\n",
      "     8210000       0.00      0.00      0.00         1\n",
      "     8430000       0.00      0.00      0.00         1\n",
      "     9480000       0.00      0.00      0.00         1\n",
      "     9880000       0.00      0.00      0.00         1\n",
      "    10350000       0.00      0.00      0.00         1\n",
      "    10390000       0.00      0.00      0.00         1\n",
      "    10590000       0.00      0.00      0.00         1\n",
      "    10890000       0.00      0.00      0.00         1\n",
      "    10990000       0.00      0.00      0.00         0\n",
      "    11180000       0.00      0.00      0.00         1\n",
      "    14920000       0.00      0.00      0.00         1\n",
      "    15120000       0.00      0.00      0.00         1\n",
      "    19530000       0.00      0.00      0.00         1\n",
      "    20360000       0.00      0.00      0.00         1\n",
      "\n",
      "    accuracy                           0.37      4575\n",
      "   macro avg       0.03      0.05      0.03      4575\n",
      "weighted avg       0.35      0.37      0.35      4575\n",
      "\n"
     ]
    },
    {
     "name": "stderr",
     "output_type": "stream",
     "text": [
      "C:\\Users\\Nick\\miniconda3\\lib\\site-packages\\sklearn\\metrics\\_classification.py:1248: UndefinedMetricWarning: Precision and F-score are ill-defined and being set to 0.0 in labels with no predicted samples. Use `zero_division` parameter to control this behavior.\n",
      "  _warn_prf(average, modifier, msg_start, len(result))\n",
      "C:\\Users\\Nick\\miniconda3\\lib\\site-packages\\sklearn\\metrics\\_classification.py:1248: UndefinedMetricWarning: Recall and F-score are ill-defined and being set to 0.0 in labels with no true samples. Use `zero_division` parameter to control this behavior.\n",
      "  _warn_prf(average, modifier, msg_start, len(result))\n",
      "C:\\Users\\Nick\\miniconda3\\lib\\site-packages\\sklearn\\metrics\\_classification.py:1248: UndefinedMetricWarning: Precision and F-score are ill-defined and being set to 0.0 in labels with no predicted samples. Use `zero_division` parameter to control this behavior.\n",
      "  _warn_prf(average, modifier, msg_start, len(result))\n",
      "C:\\Users\\Nick\\miniconda3\\lib\\site-packages\\sklearn\\metrics\\_classification.py:1248: UndefinedMetricWarning: Recall and F-score are ill-defined and being set to 0.0 in labels with no true samples. Use `zero_division` parameter to control this behavior.\n",
      "  _warn_prf(average, modifier, msg_start, len(result))\n",
      "C:\\Users\\Nick\\miniconda3\\lib\\site-packages\\sklearn\\metrics\\_classification.py:1248: UndefinedMetricWarning: Precision and F-score are ill-defined and being set to 0.0 in labels with no predicted samples. Use `zero_division` parameter to control this behavior.\n",
      "  _warn_prf(average, modifier, msg_start, len(result))\n",
      "C:\\Users\\Nick\\miniconda3\\lib\\site-packages\\sklearn\\metrics\\_classification.py:1248: UndefinedMetricWarning: Recall and F-score are ill-defined and being set to 0.0 in labels with no true samples. Use `zero_division` parameter to control this behavior.\n",
      "  _warn_prf(average, modifier, msg_start, len(result))\n"
     ]
    }
   ],
   "source": [
    "print(metrics.classification_report(y_4_test, y_4_predict))"
   ]
  },
  {
   "cell_type": "code",
   "execution_count": null,
   "id": "ec05a0dd",
   "metadata": {},
   "outputs": [],
   "source": [
    "#try with number uninsured"
   ]
  },
  {
   "cell_type": "code",
   "execution_count": 224,
   "id": "6cb9b672",
   "metadata": {},
   "outputs": [],
   "source": [
    "y_5 = (numberundf['NUI']/10000).astype('int')*10000\n",
    "\n",
    "X_5 = numberundf.drop(['NUI'],axis=1)\n",
    "\n",
    "'''\n",
    "I'm going to rename all zeros to -1 to avoid absolute destruction\n",
    "'''\n",
    "\n",
    "X_5.replace(to_replace=0,value=-1,inplace=True)\n",
    "\n",
    "X_5_train, X_5_test, y_5_train, y_5_test = train_test_split(X_5, y_5, random_state=899)\n",
    "\n",
    "model_5 = GaussianNB()"
   ]
  },
  {
   "cell_type": "code",
   "execution_count": 225,
   "id": "67e5d3e7",
   "metadata": {},
   "outputs": [
    {
     "data": {
      "text/plain": [
       "GaussianNB()"
      ]
     },
     "execution_count": 225,
     "metadata": {},
     "output_type": "execute_result"
    }
   ],
   "source": [
    "model_5.fit(X_5_train,y_5_train)"
   ]
  },
  {
   "cell_type": "code",
   "execution_count": 226,
   "id": "899da6af",
   "metadata": {},
   "outputs": [],
   "source": [
    "y_5_predict = model_5.predict(X_5_test)"
   ]
  },
  {
   "cell_type": "code",
   "execution_count": 227,
   "id": "1e67d24e",
   "metadata": {},
   "outputs": [
    {
     "data": {
      "text/plain": [
       "0.42513661202185793"
      ]
     },
     "execution_count": 227,
     "metadata": {},
     "output_type": "execute_result"
    }
   ],
   "source": [
    "metrics.accuracy_score(y_5_test, y_5_predict)"
   ]
  },
  {
   "cell_type": "code",
   "execution_count": 228,
   "id": "accb99b0",
   "metadata": {},
   "outputs": [
    {
     "ename": "ValueError",
     "evalue": "Target is multiclass but average='binary'. Please choose another average setting, one of [None, 'micro', 'macro', 'weighted'].",
     "output_type": "error",
     "traceback": [
      "\u001b[1;31m---------------------------------------------------------------------------\u001b[0m",
      "\u001b[1;31mValueError\u001b[0m                                Traceback (most recent call last)",
      "\u001b[1;32m<ipython-input-228-7bc2174595f7>\u001b[0m in \u001b[0;36m<module>\u001b[1;34m\u001b[0m\n\u001b[1;32m----> 1\u001b[1;33m \u001b[0mmetrics\u001b[0m\u001b[1;33m.\u001b[0m\u001b[0mprecision_score\u001b[0m\u001b[1;33m(\u001b[0m\u001b[0my_5_test\u001b[0m\u001b[1;33m,\u001b[0m \u001b[0my_5_predict\u001b[0m\u001b[1;33m)\u001b[0m\u001b[1;33m\u001b[0m\u001b[1;33m\u001b[0m\u001b[0m\n\u001b[0m",
      "\u001b[1;32m~\\miniconda3\\lib\\site-packages\\sklearn\\utils\\validation.py\u001b[0m in \u001b[0;36minner_f\u001b[1;34m(*args, **kwargs)\u001b[0m\n\u001b[0;32m     61\u001b[0m             \u001b[0mextra_args\u001b[0m \u001b[1;33m=\u001b[0m \u001b[0mlen\u001b[0m\u001b[1;33m(\u001b[0m\u001b[0margs\u001b[0m\u001b[1;33m)\u001b[0m \u001b[1;33m-\u001b[0m \u001b[0mlen\u001b[0m\u001b[1;33m(\u001b[0m\u001b[0mall_args\u001b[0m\u001b[1;33m)\u001b[0m\u001b[1;33m\u001b[0m\u001b[1;33m\u001b[0m\u001b[0m\n\u001b[0;32m     62\u001b[0m             \u001b[1;32mif\u001b[0m \u001b[0mextra_args\u001b[0m \u001b[1;33m<=\u001b[0m \u001b[1;36m0\u001b[0m\u001b[1;33m:\u001b[0m\u001b[1;33m\u001b[0m\u001b[1;33m\u001b[0m\u001b[0m\n\u001b[1;32m---> 63\u001b[1;33m                 \u001b[1;32mreturn\u001b[0m \u001b[0mf\u001b[0m\u001b[1;33m(\u001b[0m\u001b[1;33m*\u001b[0m\u001b[0margs\u001b[0m\u001b[1;33m,\u001b[0m \u001b[1;33m**\u001b[0m\u001b[0mkwargs\u001b[0m\u001b[1;33m)\u001b[0m\u001b[1;33m\u001b[0m\u001b[1;33m\u001b[0m\u001b[0m\n\u001b[0m\u001b[0;32m     64\u001b[0m \u001b[1;33m\u001b[0m\u001b[0m\n\u001b[0;32m     65\u001b[0m             \u001b[1;31m# extra_args > 0\u001b[0m\u001b[1;33m\u001b[0m\u001b[1;33m\u001b[0m\u001b[1;33m\u001b[0m\u001b[0m\n",
      "\u001b[1;32m~\\miniconda3\\lib\\site-packages\\sklearn\\metrics\\_classification.py\u001b[0m in \u001b[0;36mprecision_score\u001b[1;34m(y_true, y_pred, labels, pos_label, average, sample_weight, zero_division)\u001b[0m\n\u001b[0;32m   1654\u001b[0m \u001b[1;33m\u001b[0m\u001b[0m\n\u001b[0;32m   1655\u001b[0m     \"\"\"\n\u001b[1;32m-> 1656\u001b[1;33m     p, _, _, _ = precision_recall_fscore_support(y_true, y_pred,\n\u001b[0m\u001b[0;32m   1657\u001b[0m                                                  \u001b[0mlabels\u001b[0m\u001b[1;33m=\u001b[0m\u001b[0mlabels\u001b[0m\u001b[1;33m,\u001b[0m\u001b[1;33m\u001b[0m\u001b[1;33m\u001b[0m\u001b[0m\n\u001b[0;32m   1658\u001b[0m                                                  \u001b[0mpos_label\u001b[0m\u001b[1;33m=\u001b[0m\u001b[0mpos_label\u001b[0m\u001b[1;33m,\u001b[0m\u001b[1;33m\u001b[0m\u001b[1;33m\u001b[0m\u001b[0m\n",
      "\u001b[1;32m~\\miniconda3\\lib\\site-packages\\sklearn\\utils\\validation.py\u001b[0m in \u001b[0;36minner_f\u001b[1;34m(*args, **kwargs)\u001b[0m\n\u001b[0;32m     61\u001b[0m             \u001b[0mextra_args\u001b[0m \u001b[1;33m=\u001b[0m \u001b[0mlen\u001b[0m\u001b[1;33m(\u001b[0m\u001b[0margs\u001b[0m\u001b[1;33m)\u001b[0m \u001b[1;33m-\u001b[0m \u001b[0mlen\u001b[0m\u001b[1;33m(\u001b[0m\u001b[0mall_args\u001b[0m\u001b[1;33m)\u001b[0m\u001b[1;33m\u001b[0m\u001b[1;33m\u001b[0m\u001b[0m\n\u001b[0;32m     62\u001b[0m             \u001b[1;32mif\u001b[0m \u001b[0mextra_args\u001b[0m \u001b[1;33m<=\u001b[0m \u001b[1;36m0\u001b[0m\u001b[1;33m:\u001b[0m\u001b[1;33m\u001b[0m\u001b[1;33m\u001b[0m\u001b[0m\n\u001b[1;32m---> 63\u001b[1;33m                 \u001b[1;32mreturn\u001b[0m \u001b[0mf\u001b[0m\u001b[1;33m(\u001b[0m\u001b[1;33m*\u001b[0m\u001b[0margs\u001b[0m\u001b[1;33m,\u001b[0m \u001b[1;33m**\u001b[0m\u001b[0mkwargs\u001b[0m\u001b[1;33m)\u001b[0m\u001b[1;33m\u001b[0m\u001b[1;33m\u001b[0m\u001b[0m\n\u001b[0m\u001b[0;32m     64\u001b[0m \u001b[1;33m\u001b[0m\u001b[0m\n\u001b[0;32m     65\u001b[0m             \u001b[1;31m# extra_args > 0\u001b[0m\u001b[1;33m\u001b[0m\u001b[1;33m\u001b[0m\u001b[1;33m\u001b[0m\u001b[0m\n",
      "\u001b[1;32m~\\miniconda3\\lib\\site-packages\\sklearn\\metrics\\_classification.py\u001b[0m in \u001b[0;36mprecision_recall_fscore_support\u001b[1;34m(y_true, y_pred, beta, labels, pos_label, average, warn_for, sample_weight, zero_division)\u001b[0m\n\u001b[0;32m   1462\u001b[0m     \u001b[1;32mif\u001b[0m \u001b[0mbeta\u001b[0m \u001b[1;33m<\u001b[0m \u001b[1;36m0\u001b[0m\u001b[1;33m:\u001b[0m\u001b[1;33m\u001b[0m\u001b[1;33m\u001b[0m\u001b[0m\n\u001b[0;32m   1463\u001b[0m         \u001b[1;32mraise\u001b[0m \u001b[0mValueError\u001b[0m\u001b[1;33m(\u001b[0m\u001b[1;34m\"beta should be >=0 in the F-beta score\"\u001b[0m\u001b[1;33m)\u001b[0m\u001b[1;33m\u001b[0m\u001b[1;33m\u001b[0m\u001b[0m\n\u001b[1;32m-> 1464\u001b[1;33m     labels = _check_set_wise_labels(y_true, y_pred, average, labels,\n\u001b[0m\u001b[0;32m   1465\u001b[0m                                     pos_label)\n\u001b[0;32m   1466\u001b[0m \u001b[1;33m\u001b[0m\u001b[0m\n",
      "\u001b[1;32m~\\miniconda3\\lib\\site-packages\\sklearn\\metrics\\_classification.py\u001b[0m in \u001b[0;36m_check_set_wise_labels\u001b[1;34m(y_true, y_pred, average, labels, pos_label)\u001b[0m\n\u001b[0;32m   1292\u001b[0m             \u001b[1;32mif\u001b[0m \u001b[0my_type\u001b[0m \u001b[1;33m==\u001b[0m \u001b[1;34m'multiclass'\u001b[0m\u001b[1;33m:\u001b[0m\u001b[1;33m\u001b[0m\u001b[1;33m\u001b[0m\u001b[0m\n\u001b[0;32m   1293\u001b[0m                 \u001b[0maverage_options\u001b[0m\u001b[1;33m.\u001b[0m\u001b[0mremove\u001b[0m\u001b[1;33m(\u001b[0m\u001b[1;34m'samples'\u001b[0m\u001b[1;33m)\u001b[0m\u001b[1;33m\u001b[0m\u001b[1;33m\u001b[0m\u001b[0m\n\u001b[1;32m-> 1294\u001b[1;33m             raise ValueError(\"Target is %s but average='binary'. Please \"\n\u001b[0m\u001b[0;32m   1295\u001b[0m                              \u001b[1;34m\"choose another average setting, one of %r.\"\u001b[0m\u001b[1;33m\u001b[0m\u001b[1;33m\u001b[0m\u001b[0m\n\u001b[0;32m   1296\u001b[0m                              % (y_type, average_options))\n",
      "\u001b[1;31mValueError\u001b[0m: Target is multiclass but average='binary'. Please choose another average setting, one of [None, 'micro', 'macro', 'weighted']."
     ]
    }
   ],
   "source": [
    "#metrics.precision_score(y_5_test, y_5_predict) is still broken"
   ]
  },
  {
   "cell_type": "code",
   "execution_count": 229,
   "id": "5be0574c",
   "metadata": {},
   "outputs": [
    {
     "name": "stdout",
     "output_type": "stream",
     "text": [
      "              precision    recall  f1-score   support\n",
      "\n",
      "           0       0.80      0.95      0.87      1554\n",
      "       10000       0.34      0.45      0.39       608\n",
      "       20000       0.21      0.23      0.22       411\n",
      "       30000       0.14      0.12      0.13       317\n",
      "       40000       0.08      0.12      0.09       216\n",
      "       50000       0.11      0.04      0.06       167\n",
      "       60000       0.09      0.07      0.08       160\n",
      "       70000       0.08      0.07      0.08       137\n",
      "       80000       0.00      0.00      0.00       107\n",
      "       90000       0.05      0.08      0.06        79\n",
      "      100000       0.00      0.00      0.00        67\n",
      "      110000       0.03      0.05      0.04        62\n",
      "      120000       0.00      0.00      0.00        59\n",
      "      130000       0.00      0.00      0.00        43\n",
      "      140000       0.00      0.00      0.00        33\n",
      "      150000       0.00      0.00      0.00        41\n",
      "      160000       0.00      0.00      0.00        39\n",
      "      170000       0.00      0.00      0.00        38\n",
      "      180000       0.00      0.00      0.00        28\n",
      "      190000       0.00      0.00      0.00        26\n",
      "      200000       0.00      0.00      0.00        17\n",
      "      210000       0.00      0.00      0.00        17\n",
      "      220000       0.00      0.00      0.00        19\n",
      "      230000       0.00      0.00      0.00        23\n",
      "      240000       0.00      0.00      0.00        15\n",
      "      250000       0.00      0.00      0.00        19\n",
      "      260000       0.00      0.00      0.00        12\n",
      "      270000       0.00      0.00      0.00        15\n",
      "      280000       0.00      0.00      0.00        10\n",
      "      290000       0.02      0.12      0.03         8\n",
      "      300000       0.00      0.00      0.00        11\n",
      "      310000       0.00      0.00      0.00         8\n",
      "      320000       0.00      0.00      0.00         5\n",
      "      330000       0.00      0.00      0.00         4\n",
      "      340000       0.00      0.00      0.00         5\n",
      "      350000       0.00      0.00      0.00        13\n",
      "      360000       0.00      0.00      0.00         8\n",
      "      370000       0.00      0.00      0.00         6\n",
      "      380000       0.00      0.00      0.00         6\n",
      "      390000       0.00      0.00      0.00         9\n",
      "      400000       0.00      0.00      0.00         9\n",
      "      410000       0.00      0.00      0.00         2\n",
      "      420000       0.00      0.00      0.00         7\n",
      "      430000       0.00      0.00      0.00         4\n",
      "      440000       0.00      0.00      0.00         3\n",
      "      450000       0.00      0.00      0.00         4\n",
      "      460000       0.00      0.00      0.00         2\n",
      "      470000       0.00      0.00      0.00         2\n",
      "      480000       0.00      0.00      0.00         4\n",
      "      490000       0.00      0.00      0.00         4\n",
      "      500000       0.00      0.00      0.00         5\n",
      "      510000       0.00      0.00      0.00         5\n",
      "      520000       0.00      0.00      0.00         4\n",
      "      530000       0.00      0.00      0.00         1\n",
      "      540000       0.00      0.00      0.00         2\n",
      "      550000       0.00      0.00      0.00         2\n",
      "      560000       0.00      0.00      0.00         3\n",
      "      570000       0.00      0.00      0.00         1\n",
      "      580000       0.00      0.00      0.00         3\n",
      "      590000       0.00      0.00      0.00         1\n",
      "      600000       0.00      0.00      0.00         5\n",
      "      610000       0.00      0.00      0.00         2\n",
      "      620000       0.00      0.00      0.00         1\n",
      "      630000       0.00      0.00      0.00         1\n",
      "      640000       0.00      0.00      0.00         1\n",
      "      660000       0.00      0.00      0.00         1\n",
      "      670000       0.00      0.00      0.00         1\n",
      "      690000       0.00      0.00      0.00         1\n",
      "      700000       0.00      0.00      0.00         3\n",
      "      720000       0.00      0.00      0.00         2\n",
      "      730000       0.00      0.00      0.00         1\n",
      "      740000       0.00      0.00      0.00         1\n",
      "      750000       0.00      0.00      0.00         3\n",
      "      770000       0.00      0.00      0.00         2\n",
      "      780000       0.00      0.00      0.00         1\n",
      "      790000       0.00      0.00      0.00         2\n",
      "      830000       0.00      0.00      0.00         1\n",
      "      840000       0.00      0.00      0.00         1\n",
      "      850000       0.00      0.00      0.00         1\n",
      "      870000       0.00      0.00      0.00         1\n",
      "      880000       0.00      0.00      0.00         2\n",
      "      900000       0.00      0.00      0.00         2\n",
      "      910000       0.00      0.00      0.00         3\n",
      "      930000       0.00      0.00      0.00         4\n",
      "      950000       0.00      0.00      0.00         2\n",
      "      970000       0.00      0.00      0.00         1\n",
      "     1010000       0.00      0.00      0.00         2\n",
      "     1030000       0.00      0.00      0.00         2\n",
      "     1050000       0.00      0.00      0.00         1\n",
      "     1060000       0.00      0.00      0.00         2\n",
      "     1070000       0.00      0.00      0.00         1\n",
      "     1080000       0.00      0.00      0.00         1\n",
      "     1110000       0.00      0.00      0.00         0\n",
      "     1140000       0.00      0.00      0.00         2\n",
      "     1150000       0.00      0.00      0.00         1\n",
      "     1160000       0.00      0.00      0.00         2\n",
      "     1180000       0.00      0.00      0.00         2\n",
      "     1210000       0.00      0.00      0.00         0\n",
      "     1240000       0.00      0.00      0.00         1\n",
      "     1250000       0.00      0.00      0.00         1\n",
      "     1270000       0.00      0.00      0.00         1\n",
      "     1300000       0.00      0.00      0.00         1\n",
      "     1460000       0.00      0.00      0.00         1\n",
      "     1500000       0.00      0.00      0.00         1\n",
      "     1510000       0.00      0.00      0.00         1\n",
      "     1590000       0.00      0.00      0.00         0\n",
      "     1640000       0.00      0.00      0.00         1\n",
      "     1650000       0.00      0.00      0.00         1\n",
      "     1670000       0.00      0.00      0.00         1\n",
      "     1760000       0.00      0.00      0.00         1\n",
      "     1880000       0.00      0.00      0.00         1\n",
      "     2020000       0.00      0.00      0.00         1\n",
      "     2030000       0.00      0.00      0.00         1\n",
      "     2110000       0.00      0.00      0.00         1\n",
      "     2180000       0.00      0.00      0.00         1\n",
      "     2200000       0.00      0.00      0.00         2\n",
      "     2280000       0.00      0.00      0.00         0\n",
      "     2360000       0.00      0.00      0.00         1\n",
      "     2570000       0.00      0.00      0.00         1\n",
      "     2650000       0.00      0.00      0.00         0\n",
      "     2830000       0.00      0.00      0.00         1\n",
      "     3180000       0.00      0.00      0.00         1\n",
      "     4310000       0.00      0.00      0.00         1\n",
      "\n",
      "    accuracy                           0.43      4575\n",
      "   macro avg       0.02      0.02      0.02      4575\n",
      "weighted avg       0.36      0.43      0.39      4575\n",
      "\n"
     ]
    },
    {
     "name": "stderr",
     "output_type": "stream",
     "text": [
      "C:\\Users\\Nick\\miniconda3\\lib\\site-packages\\sklearn\\metrics\\_classification.py:1248: UndefinedMetricWarning: Precision and F-score are ill-defined and being set to 0.0 in labels with no predicted samples. Use `zero_division` parameter to control this behavior.\n",
      "  _warn_prf(average, modifier, msg_start, len(result))\n",
      "C:\\Users\\Nick\\miniconda3\\lib\\site-packages\\sklearn\\metrics\\_classification.py:1248: UndefinedMetricWarning: Recall and F-score are ill-defined and being set to 0.0 in labels with no true samples. Use `zero_division` parameter to control this behavior.\n",
      "  _warn_prf(average, modifier, msg_start, len(result))\n",
      "C:\\Users\\Nick\\miniconda3\\lib\\site-packages\\sklearn\\metrics\\_classification.py:1248: UndefinedMetricWarning: Precision and F-score are ill-defined and being set to 0.0 in labels with no predicted samples. Use `zero_division` parameter to control this behavior.\n",
      "  _warn_prf(average, modifier, msg_start, len(result))\n",
      "C:\\Users\\Nick\\miniconda3\\lib\\site-packages\\sklearn\\metrics\\_classification.py:1248: UndefinedMetricWarning: Recall and F-score are ill-defined and being set to 0.0 in labels with no true samples. Use `zero_division` parameter to control this behavior.\n",
      "  _warn_prf(average, modifier, msg_start, len(result))\n",
      "C:\\Users\\Nick\\miniconda3\\lib\\site-packages\\sklearn\\metrics\\_classification.py:1248: UndefinedMetricWarning: Precision and F-score are ill-defined and being set to 0.0 in labels with no predicted samples. Use `zero_division` parameter to control this behavior.\n",
      "  _warn_prf(average, modifier, msg_start, len(result))\n",
      "C:\\Users\\Nick\\miniconda3\\lib\\site-packages\\sklearn\\metrics\\_classification.py:1248: UndefinedMetricWarning: Recall and F-score are ill-defined and being set to 0.0 in labels with no true samples. Use `zero_division` parameter to control this behavior.\n",
      "  _warn_prf(average, modifier, msg_start, len(result))\n"
     ]
    }
   ],
   "source": [
    "print(metrics.classification_report(y_5_test, y_5_predict))"
   ]
  },
  {
   "cell_type": "code",
   "execution_count": null,
   "id": "1b809425",
   "metadata": {},
   "outputs": [],
   "source": [
    "##"
   ]
  },
  {
   "cell_type": "code",
   "execution_count": null,
   "id": "af10cc32",
   "metadata": {},
   "outputs": [],
   "source": [
    "# attempt 2\n",
    "#\n",
    "#I have to run the regression a lot bc it is very volatile"
   ]
  },
  {
   "cell_type": "code",
   "execution_count": null,
   "id": "3bfd4668",
   "metadata": {},
   "outputs": [],
   "source": [
    "##"
   ]
  },
  {
   "cell_type": "code",
   "execution_count": 233,
   "id": "dee3c97c",
   "metadata": {},
   "outputs": [
    {
     "name": "stdout",
     "output_type": "stream",
     "text": [
      "<class 'pandas.core.frame.DataFrame'>\n",
      "RangeIndex: 18300 entries, 0 to 18299\n",
      "Data columns (total 6 columns):\n",
      " #   Column   Non-Null Count  Dtype\n",
      "---  ------   --------------  -----\n",
      " 0   agecat   18300 non-null  int64\n",
      " 1   racecat  18300 non-null  int64\n",
      " 2   sexcat   18300 non-null  int64\n",
      " 3   iprcat   18300 non-null  int64\n",
      " 4   NIPR     18300 non-null  int64\n",
      " 5   NUI      18300 non-null  int64\n",
      "dtypes: int64(6)\n",
      "memory usage: 857.9 KB\n"
     ]
    }
   ],
   "source": [
    "numberundf.info()"
   ]
  },
  {
   "cell_type": "code",
   "execution_count": 237,
   "id": "60369480",
   "metadata": {},
   "outputs": [],
   "source": [
    "#this is the target correlation variable\n",
    "age1 = numberundf.loc[numberundf['agecat']==1]\n",
    "#these are all set to encompass the entire pop \n",
    "age1 = age1.loc[age1['racecat']==0]\n",
    "age1 = age1.loc[age1['sexcat']==0]\n",
    "age1 = age1.loc[age1['iprcat']==0]"
   ]
  },
  {
   "cell_type": "code",
   "execution_count": 238,
   "id": "2f20cbbb",
   "metadata": {},
   "outputs": [
    {
     "name": "stdout",
     "output_type": "stream",
     "text": [
      "<class 'pandas.core.frame.DataFrame'>\n",
      "Int64Index: 50 entries, 72 to 18006\n",
      "Data columns (total 6 columns):\n",
      " #   Column   Non-Null Count  Dtype\n",
      "---  ------   --------------  -----\n",
      " 0   agecat   50 non-null     int64\n",
      " 1   racecat  50 non-null     int64\n",
      " 2   sexcat   50 non-null     int64\n",
      " 3   iprcat   50 non-null     int64\n",
      " 4   NIPR     50 non-null     int64\n",
      " 5   NUI      50 non-null     int64\n",
      "dtypes: int64(6)\n",
      "memory usage: 2.7 KB\n"
     ]
    }
   ],
   "source": [
    "age1.info()"
   ]
  },
  {
   "cell_type": "code",
   "execution_count": 239,
   "id": "bc6e37a5",
   "metadata": {},
   "outputs": [],
   "source": [
    "age1.drop(['agecat'],axis=1,inplace=True)\n",
    "age1.drop(['racecat'],axis=1,inplace=True)\n",
    "age1.drop(['sexcat'],axis=1,inplace=True)\n",
    "age1.drop(['iprcat'],axis=1,inplace=True)"
   ]
  },
  {
   "cell_type": "code",
   "execution_count": 895,
   "id": "9bb0cf84",
   "metadata": {},
   "outputs": [
    {
     "name": "stdout",
     "output_type": "stream",
     "text": [
      "0.5027042044967271\n"
     ]
    }
   ],
   "source": [
    "modela1list=[]\n",
    "for i in range(10000):\n",
    "    ya1 = age1['NUI']\n",
    "    Xa1 = age1.drop(['NUI'],axis=1)\n",
    "\n",
    "    Xa1_train, Xa1_test, ya1_train, ya1_test = train_test_split(Xa1, ya1)\n",
    "\n",
    "    modela1 = LinearRegression()\n",
    "\n",
    "    modela1.fit(Xa1_train,ya1_train)\n",
    "    q=modela1.score(Xa1_test, ya1_test)\n",
    "    modela1list.append(q)\n",
    "    \n",
    "resulta1 = Avg(modela1list)\n",
    "print(resulta1)"
   ]
  },
  {
   "cell_type": "code",
   "execution_count": null,
   "id": "e9d61ec6",
   "metadata": {},
   "outputs": [],
   "source": [
    "#"
   ]
  },
  {
   "cell_type": "code",
   "execution_count": 247,
   "id": "d776a550",
   "metadata": {},
   "outputs": [
    {
     "name": "stdout",
     "output_type": "stream",
     "text": [
      "<class 'pandas.core.frame.DataFrame'>\n",
      "RangeIndex: 18300 entries, 0 to 18299\n",
      "Data columns (total 6 columns):\n",
      " #   Column   Non-Null Count  Dtype\n",
      "---  ------   --------------  -----\n",
      " 0   agecat   18300 non-null  int64\n",
      " 1   racecat  18300 non-null  int64\n",
      " 2   sexcat   18300 non-null  int64\n",
      " 3   iprcat   18300 non-null  int64\n",
      " 4   NIPR     18300 non-null  int64\n",
      " 5   NUI      18300 non-null  int64\n",
      "dtypes: int64(6)\n",
      "memory usage: 857.9 KB\n"
     ]
    }
   ],
   "source": [
    "numberundf.info()"
   ]
  },
  {
   "cell_type": "code",
   "execution_count": 622,
   "id": "d6d3a71e",
   "metadata": {},
   "outputs": [],
   "source": [
    "#this is the target correlation variable\n",
    "age2 = numberundf.loc[numberundf['agecat']==2]\n",
    "#these are all set to encompass the entire pop \n",
    "age2 = age2.loc[age2['racecat']==0]\n",
    "age2 = age2.loc[age2['sexcat']==0]\n",
    "age2 = age2.loc[age2['iprcat']==0]"
   ]
  },
  {
   "cell_type": "code",
   "execution_count": 623,
   "id": "24e18fce",
   "metadata": {},
   "outputs": [],
   "source": [
    "age2.drop(['agecat'],axis=1,inplace=True)\n",
    "age2.drop(['racecat'],axis=1,inplace=True)\n",
    "age2.drop(['sexcat'],axis=1,inplace=True)\n",
    "age2.drop(['iprcat'],axis=1,inplace=True)"
   ]
  },
  {
   "cell_type": "code",
   "execution_count": 898,
   "id": "3a8bd4d7",
   "metadata": {},
   "outputs": [
    {
     "name": "stdout",
     "output_type": "stream",
     "text": [
      "0.5103784883840301\n"
     ]
    }
   ],
   "source": [
    "modela2list=[]\n",
    "\n",
    "for i in range(10000):\n",
    "    \n",
    "    ya2 = age2['NUI']\n",
    "    Xa2 = age2.drop(['NUI'],axis=1)\n",
    "\n",
    "    Xa2_train, Xa2_test, ya2_train, ya2_test = train_test_split(Xa2, ya2)\n",
    "\n",
    "    modela2 = LinearRegression()\n",
    "\n",
    "    modela2.fit(Xa2_train,ya2_train)\n",
    "    q=modela2.score(Xa2_test,ya2_test)\n",
    "    modela2list.append(q)\n",
    "\n",
    "resulta2 = Avg(modela2list)\n",
    "print(resulta2)"
   ]
  },
  {
   "cell_type": "code",
   "execution_count": null,
   "id": "c839b518",
   "metadata": {},
   "outputs": [],
   "source": [
    "#"
   ]
  },
  {
   "cell_type": "code",
   "execution_count": 654,
   "id": "c776bdeb",
   "metadata": {},
   "outputs": [],
   "source": [
    "age3 = numberundf.loc[numberundf['agecat']==3]\n",
    "#these are all set to encompass the entire pop \n",
    "age3 = age3.loc[age3['racecat']==0]\n",
    "age3 = age3.loc[age3['sexcat']==0]\n",
    "age3 = age3.loc[age3['iprcat']==0]"
   ]
  },
  {
   "cell_type": "code",
   "execution_count": 655,
   "id": "14f116d8",
   "metadata": {},
   "outputs": [],
   "source": [
    "age3.drop(['agecat'],axis=1,inplace=True)\n",
    "age3.drop(['racecat'],axis=1,inplace=True)\n",
    "age3.drop(['sexcat'],axis=1,inplace=True)\n",
    "age3.drop(['iprcat'],axis=1,inplace=True)"
   ]
  },
  {
   "cell_type": "code",
   "execution_count": 899,
   "id": "7dcde404",
   "metadata": {},
   "outputs": [
    {
     "name": "stdout",
     "output_type": "stream",
     "text": [
      "0.5015821982392433\n"
     ]
    }
   ],
   "source": [
    "modela3list=[]   \n",
    "for i in range(10000):\n",
    "    ya3 = age3['NUI']\n",
    "    Xa3 = age3.drop(['NUI'],axis=1)\n",
    "\n",
    "    Xa3_train, Xa3_test, ya3_train, ya3_test = train_test_split(Xa3, ya3)\n",
    "\n",
    "    modela3 = LinearRegression()\n",
    "\n",
    "    modela3.fit(Xa3_train,ya3_train)\n",
    "    q=modela3.score(Xa3_test,ya3_test)\n",
    "    modela3list.append(q)\n",
    "    \n",
    "resulta3 = Avg(modela3list)\n",
    "print(resulta3)"
   ]
  },
  {
   "cell_type": "code",
   "execution_count": null,
   "id": "da500c97",
   "metadata": {},
   "outputs": [],
   "source": [
    "#"
   ]
  },
  {
   "cell_type": "code",
   "execution_count": 696,
   "id": "893f084f",
   "metadata": {},
   "outputs": [],
   "source": [
    "#this is the target correlation variable\n",
    "age4 = numberundf.loc[numberundf['agecat']==4]\n",
    "#these are all set to encompass the entire pop \n",
    "age4 = age4.loc[age4['racecat']==0]\n",
    "age4 = age4.loc[age4['sexcat']==0]\n",
    "age4 = age4.loc[age4['iprcat']==0]"
   ]
  },
  {
   "cell_type": "code",
   "execution_count": 697,
   "id": "e5408630",
   "metadata": {},
   "outputs": [],
   "source": [
    "age4.drop(['agecat'],axis=1,inplace=True)\n",
    "age4.drop(['racecat'],axis=1,inplace=True)\n",
    "age4.drop(['sexcat'],axis=1,inplace=True)\n",
    "age4.drop(['iprcat'],axis=1,inplace=True)"
   ]
  },
  {
   "cell_type": "code",
   "execution_count": 902,
   "id": "2546283c",
   "metadata": {},
   "outputs": [
    {
     "name": "stdout",
     "output_type": "stream",
     "text": [
      "-1.2543193163472148\n"
     ]
    }
   ],
   "source": [
    "modela4list=[] \n",
    "for i in range(10000):    \n",
    "    ya4 = age4['NUI']\n",
    "    Xa4 = age4.drop(['NUI'],axis=1)\n",
    "\n",
    "    Xa4_train, Xa4_test, ya4_train, ya4_test = train_test_split(Xa4, ya4)\n",
    "\n",
    "    modela4 = LinearRegression()\n",
    "\n",
    "    modela4.fit(Xa4_train,ya4_train)\n",
    "    q=modela3.score(Xa4_test,ya4_test)\n",
    "    modela4list.append(q)\n",
    "\n",
    "resulta4 = Avg(modela4list)\n",
    "print(resulta4)"
   ]
  },
  {
   "cell_type": "code",
   "execution_count": null,
   "id": "edeea6d5",
   "metadata": {},
   "outputs": [],
   "source": [
    "##\n",
    "##\n",
    "##"
   ]
  },
  {
   "cell_type": "code",
   "execution_count": 271,
   "id": "77289bf0",
   "metadata": {},
   "outputs": [],
   "source": [
    "#this is the target correlation variable\n",
    "race1 = numberundf.loc[numberundf['racecat']==1]\n",
    "#these are all set to encompass the entire pop \n",
    "race1 = race1.loc[race1['agecat']==0]\n",
    "race1 = race1.loc[race1['sexcat']==0]\n",
    "race1 = race1.loc[race1['iprcat']==0]"
   ]
  },
  {
   "cell_type": "code",
   "execution_count": 272,
   "id": "8f83c95d",
   "metadata": {},
   "outputs": [],
   "source": [
    "race1.drop(['agecat'],axis=1,inplace=True)\n",
    "race1.drop(['racecat'],axis=1,inplace=True)\n",
    "race1.drop(['sexcat'],axis=1,inplace=True)\n",
    "race1.drop(['iprcat'],axis=1,inplace=True)"
   ]
  },
  {
   "cell_type": "code",
   "execution_count": 903,
   "id": "b1b7ce63",
   "metadata": {},
   "outputs": [
    {
     "name": "stdout",
     "output_type": "stream",
     "text": [
      "0.5020663701050772\n"
     ]
    }
   ],
   "source": [
    "modelr1list=[] \n",
    "for i in range(10000):    \n",
    "    yr1 = race1['NUI']\n",
    "    Xr1 = race1.drop(['NUI'],axis=1)\n",
    "\n",
    "    Xr1_train, Xr1_test, yr1_train, yr1_test = train_test_split(Xr1, yr1)\n",
    "\n",
    "    modelr1 = LinearRegression()\n",
    "\n",
    "    modelr1.fit(Xr1_train,yr1_train)\n",
    "    q=modelr1.score(Xr1_test,yr1_test)\n",
    "    modelr1list.append(q)\n",
    "\n",
    "resultr1 = Avg(modelr1list)\n",
    "print(resultr1)"
   ]
  },
  {
   "cell_type": "code",
   "execution_count": null,
   "id": "1171e4a5",
   "metadata": {},
   "outputs": [],
   "source": [
    "#"
   ]
  },
  {
   "cell_type": "code",
   "execution_count": 275,
   "id": "dde6a8ac",
   "metadata": {},
   "outputs": [],
   "source": [
    "#this is the target correlation variable\n",
    "race2 = numberundf.loc[numberundf['racecat']==2]\n",
    "#these are all set to encompass the entire pop \n",
    "race2 = race2.loc[race2['agecat']==0]\n",
    "race2 = race2.loc[race2['sexcat']==0]\n",
    "race2 = race2.loc[race2['iprcat']==0]"
   ]
  },
  {
   "cell_type": "code",
   "execution_count": 276,
   "id": "0ec78cfa",
   "metadata": {},
   "outputs": [],
   "source": [
    "race2.drop(['agecat'],axis=1,inplace=True)\n",
    "race2.drop(['racecat'],axis=1,inplace=True)\n",
    "race2.drop(['sexcat'],axis=1,inplace=True)\n",
    "race2.drop(['iprcat'],axis=1,inplace=True)"
   ]
  },
  {
   "cell_type": "code",
   "execution_count": 904,
   "id": "1b9f29ea",
   "metadata": {},
   "outputs": [
    {
     "name": "stdout",
     "output_type": "stream",
     "text": [
      "0.701019083760437\n"
     ]
    }
   ],
   "source": [
    "modelr2list=[] \n",
    "for i in range(10000):    \n",
    "    yr2 = race2['NUI']\n",
    "    Xr2 = race2.drop(['NUI'],axis=1)\n",
    "\n",
    "    Xr2_train, Xr2_test, yr2_train, yr2_test = train_test_split(Xr2, yr2)\n",
    "\n",
    "    modelr2 = LinearRegression()\n",
    "    modelr2.fit(Xr2_train,yr2_train)\n",
    "    q=modelr2.score(Xr2_test,yr2_test)\n",
    "    modelr2list.append(q)\n",
    "\n",
    "resultr2 = Avg(modelr2list)\n",
    "print(resultr2)"
   ]
  },
  {
   "cell_type": "code",
   "execution_count": null,
   "id": "7c7fdc3c",
   "metadata": {},
   "outputs": [],
   "source": [
    "#"
   ]
  },
  {
   "cell_type": "code",
   "execution_count": 279,
   "id": "cd8a30f5",
   "metadata": {},
   "outputs": [],
   "source": [
    "#this is the target correlation variable\n",
    "race3 = numberundf.loc[numberundf['racecat']==3]\n",
    "#these are all set to encompass the entire pop \n",
    "race3 = race3.loc[race3['agecat']==0]\n",
    "race3 = race3.loc[race3['sexcat']==0]\n",
    "race3 = race3.loc[race3['iprcat']==0]"
   ]
  },
  {
   "cell_type": "code",
   "execution_count": 280,
   "id": "952f8753",
   "metadata": {},
   "outputs": [],
   "source": [
    "race3.drop(['agecat'],axis=1,inplace=True)\n",
    "race3.drop(['racecat'],axis=1,inplace=True)\n",
    "race3.drop(['sexcat'],axis=1,inplace=True)\n",
    "race3.drop(['iprcat'],axis=1,inplace=True)"
   ]
  },
  {
   "cell_type": "code",
   "execution_count": 906,
   "id": "de46b07b",
   "metadata": {},
   "outputs": [
    {
     "name": "stdout",
     "output_type": "stream",
     "text": [
      "0.5547884701519596\n"
     ]
    }
   ],
   "source": [
    "modelr3list=[] \n",
    "for i in range(10000):    \n",
    "    yr3 = race3['NUI']\n",
    "    Xr3 = race3.drop(['NUI'],axis=1)\n",
    "\n",
    "    Xr3_train, Xr3_test, yr3_train, yr3_test = train_test_split(Xr3, yr3)\n",
    "\n",
    "    modelr3 = LinearRegression()\n",
    "\n",
    "    modelr3.fit(Xr3_train,yr3_train)\n",
    "    q=modelr3.score(Xr3_test,yr3_test)\n",
    "    modelr3list.append(q)\n",
    "    \n",
    "resultr3 = Avg(modelr3list)\n",
    "print(resultr3)"
   ]
  },
  {
   "cell_type": "code",
   "execution_count": null,
   "id": "b457cc45",
   "metadata": {},
   "outputs": [],
   "source": [
    "##\n",
    "##\n",
    "##"
   ]
  },
  {
   "cell_type": "code",
   "execution_count": 284,
   "id": "f21d4654",
   "metadata": {},
   "outputs": [],
   "source": [
    "#this is the target correlation variable\n",
    "sex1 = numberundf.loc[numberundf['sexcat']==1]\n",
    "#these are all set to encompass the entire pop \n",
    "sex1 = sex1.loc[sex1['agecat']==0]\n",
    "sex1 = sex1.loc[sex1['racecat']==0]\n",
    "sex1 = sex1.loc[sex1['iprcat']==0]"
   ]
  },
  {
   "cell_type": "code",
   "execution_count": 285,
   "id": "68dc2112",
   "metadata": {},
   "outputs": [],
   "source": [
    "sex1.drop(['agecat'],axis=1,inplace=True)\n",
    "sex1.drop(['racecat'],axis=1,inplace=True)\n",
    "sex1.drop(['sexcat'],axis=1,inplace=True)\n",
    "sex1.drop(['iprcat'],axis=1,inplace=True)"
   ]
  },
  {
   "cell_type": "code",
   "execution_count": 907,
   "id": "4ec7306f",
   "metadata": {},
   "outputs": [
    {
     "name": "stdout",
     "output_type": "stream",
     "text": [
      "0.5368895118508901\n"
     ]
    }
   ],
   "source": [
    "models1list=[] \n",
    "for i in range(10000):    \n",
    "    ys1 = sex1['NUI']\n",
    "    Xs1 = sex1.drop(['NUI'],axis=1)\n",
    "\n",
    "    Xs1_train, Xs1_test, ys1_train, ys1_test = train_test_split(Xs1, ys1,test_size=0.2)\n",
    "\n",
    "    models1 = LinearRegression()\n",
    "\n",
    "    models1.fit(Xs1_train,ys1_train)\n",
    "    q=models1.score(Xs1_test,ys1_test)\n",
    "    models1list.append(q)\n",
    "    \n",
    "results1 = Avg(models1list)\n",
    "print(results1)"
   ]
  },
  {
   "cell_type": "code",
   "execution_count": null,
   "id": "c210d868",
   "metadata": {},
   "outputs": [],
   "source": [
    "#"
   ]
  },
  {
   "cell_type": "code",
   "execution_count": 288,
   "id": "de11818c",
   "metadata": {},
   "outputs": [],
   "source": [
    "#this is the target correlation variable\n",
    "sex2 = numberundf.loc[numberundf['sexcat']==2]\n",
    "#these are all set to encompass the entire pop \n",
    "sex2 = sex2.loc[sex2['agecat']==0]\n",
    "sex2 = sex2.loc[sex2['racecat']==0]\n",
    "sex2 = sex2.loc[sex2['iprcat']==0]"
   ]
  },
  {
   "cell_type": "code",
   "execution_count": 289,
   "id": "44c9e084",
   "metadata": {},
   "outputs": [],
   "source": [
    "sex2.drop(['agecat'],axis=1,inplace=True)\n",
    "sex2.drop(['racecat'],axis=1,inplace=True)\n",
    "sex2.drop(['sexcat'],axis=1,inplace=True)\n",
    "sex2.drop(['iprcat'],axis=1,inplace=True)"
   ]
  },
  {
   "cell_type": "code",
   "execution_count": 908,
   "id": "f7e139e1",
   "metadata": {},
   "outputs": [
    {
     "name": "stdout",
     "output_type": "stream",
     "text": [
      "0.31383429445192396\n"
     ]
    }
   ],
   "source": [
    "models2list=[] \n",
    "for i in range(10000):    \n",
    "    ys2 = sex2['NUI']\n",
    "    Xs2 = sex2.drop(['NUI'],axis=1)\n",
    "\n",
    "    Xs2_train, Xs2_test, ys2_train, ys2_test = train_test_split(Xs2, ys2,test_size=0.2)\n",
    "\n",
    "    models2 = LinearRegression()\n",
    "    models2.fit(Xs2_train,ys2_train)\n",
    "    q=models2.score(Xs2_test,ys2_test)\n",
    "    models2list.append(q)\n",
    "\n",
    "results2 = Avg(models2list)\n",
    "print(results2)"
   ]
  },
  {
   "cell_type": "code",
   "execution_count": null,
   "id": "fbe5c0e1",
   "metadata": {},
   "outputs": [],
   "source": [
    "##"
   ]
  },
  {
   "cell_type": "code",
   "execution_count": null,
   "id": "7fdb2f0e",
   "metadata": {},
   "outputs": [],
   "source": [
    "##"
   ]
  },
  {
   "cell_type": "code",
   "execution_count": null,
   "id": "6e7b9220",
   "metadata": {},
   "outputs": [],
   "source": [
    "##"
   ]
  },
  {
   "cell_type": "code",
   "execution_count": null,
   "id": "d641f304",
   "metadata": {},
   "outputs": [],
   "source": [
    "#this one is a little crazy"
   ]
  },
  {
   "cell_type": "code",
   "execution_count": 338,
   "id": "56c41b2b",
   "metadata": {},
   "outputs": [],
   "source": [
    "#this is the target correlation variable\n",
    "inc1 = numberundf.loc[numberundf['iprcat']==1]\n",
    "#these are all set to encompass the entire pop \n",
    "inc1 = inc1.loc[inc1['agecat']==0]\n",
    "inc1 = inc1.loc[inc1['racecat']==0]\n",
    "inc1 = inc1.loc[inc1['sexcat']==0]"
   ]
  },
  {
   "cell_type": "code",
   "execution_count": 339,
   "id": "558da706",
   "metadata": {},
   "outputs": [],
   "source": [
    "inc1.drop(['agecat'],axis=1,inplace=True)\n",
    "inc1.drop(['racecat'],axis=1,inplace=True)\n",
    "inc1.drop(['sexcat'],axis=1,inplace=True)\n",
    "inc1.drop(['iprcat'],axis=1,inplace=True)"
   ]
  },
  {
   "cell_type": "code",
   "execution_count": 909,
   "id": "c1e1e362",
   "metadata": {},
   "outputs": [
    {
     "name": "stdout",
     "output_type": "stream",
     "text": [
      "0.4598563953741448\n"
     ]
    }
   ],
   "source": [
    "modelinc1list=[] \n",
    "for i in range(10000):  \n",
    "    yi1 = inc1['NUI']\n",
    "    Xi1 = inc1.drop(['NUI'],axis=1)\n",
    "\n",
    "    Xi1_train, Xi1_test, yi1_train, yi1_test = train_test_split(Xi1, yi1,test_size=0.2)\n",
    "\n",
    "    modeli1 = LinearRegression()\n",
    "    modeli1.fit(Xi1_train,yi1_train)\n",
    "    q=modeli1.score(Xi1_test,yi1_test)\n",
    "    modelinc1list.append(q)\n",
    "    \n",
    "resultinc1 = Avg(modelinc1list)\n",
    "print(resultinc1)"
   ]
  },
  {
   "cell_type": "code",
   "execution_count": null,
   "id": "8ad2dfee",
   "metadata": {},
   "outputs": [],
   "source": [
    "#"
   ]
  },
  {
   "cell_type": "code",
   "execution_count": null,
   "id": "3afdb6e2",
   "metadata": {},
   "outputs": [],
   "source": [
    "#this is also crazy"
   ]
  },
  {
   "cell_type": "code",
   "execution_count": 522,
   "id": "cf6e787f",
   "metadata": {},
   "outputs": [],
   "source": [
    "#this is the target correlation variable\n",
    "inc2 = numberundf.loc[numberundf['iprcat']==2]\n",
    "#these are all set to encompass the entire pop \n",
    "inc2 = inc2.loc[inc2['agecat']==0]\n",
    "inc2 = inc2.loc[inc2['racecat']==0]\n",
    "inc2 = inc2.loc[inc2['sexcat']==0]"
   ]
  },
  {
   "cell_type": "code",
   "execution_count": 523,
   "id": "781fee66",
   "metadata": {},
   "outputs": [],
   "source": [
    "inc2.drop(['agecat'],axis=1,inplace=True)\n",
    "inc2.drop(['racecat'],axis=1,inplace=True)\n",
    "inc2.drop(['sexcat'],axis=1,inplace=True)\n",
    "inc2.drop(['iprcat'],axis=1,inplace=True)"
   ]
  },
  {
   "cell_type": "code",
   "execution_count": 911,
   "id": "77d64ea5",
   "metadata": {},
   "outputs": [
    {
     "name": "stdout",
     "output_type": "stream",
     "text": [
      "0.9203383091618076\n"
     ]
    }
   ],
   "source": [
    "modelinc2list=[] \n",
    "for i in range(10000):  \n",
    "    i2 = inc2['NUI']\n",
    "    Xi2 = inc2.drop(['NUI'],axis=1)\n",
    "\n",
    "    Xi2_train, Xi2_test, yi2_train, yi2_test = train_test_split(Xi2, yi2,test_size=0.2)\n",
    "\n",
    "    modeli2 = LinearRegression()\n",
    "\n",
    "    modeli2.fit(Xi2_train,yi2_train)\n",
    "    modeli2.score(Xi2_test,yi2_test)\n",
    "\n",
    "    modelinc2list.append(q)\n",
    "    \n",
    "resultinc2 = Avg(modelinc2list)\n",
    "print(resultinc2)"
   ]
  },
  {
   "cell_type": "code",
   "execution_count": null,
   "id": "85f63b7b",
   "metadata": {},
   "outputs": [],
   "source": [
    "#"
   ]
  },
  {
   "cell_type": "code",
   "execution_count": 536,
   "id": "5cf6c7a4",
   "metadata": {},
   "outputs": [],
   "source": [
    "#this is the target correlation variable\n",
    "inc3 = numberundf.loc[numberundf['iprcat']==3]\n",
    "#th3se are all set to encompass the entire pop \n",
    "inc3 = inc3.loc[inc3['agecat']==0]\n",
    "inc3 = inc3.loc[inc3['racecat']==0]\n",
    "inc3 = inc3.loc[inc3['sexcat']==0]"
   ]
  },
  {
   "cell_type": "code",
   "execution_count": 537,
   "id": "1eb1abfc",
   "metadata": {},
   "outputs": [],
   "source": [
    "inc3.drop(['agecat'],axis=1,inplace=True)\n",
    "inc3.drop(['racecat'],axis=1,inplace=True)\n",
    "inc3.drop(['sexcat'],axis=1,inplace=True)\n",
    "inc3.drop(['iprcat'],axis=1,inplace=True)"
   ]
  },
  {
   "cell_type": "code",
   "execution_count": 891,
   "id": "8f12b958",
   "metadata": {},
   "outputs": [
    {
     "name": "stdout",
     "output_type": "stream",
     "text": [
      "0.36978412922100407\n"
     ]
    }
   ],
   "source": [
    "modeli3list=[]\n",
    "\n",
    "for i in range(10000):\n",
    "    yi3 = inc3['NUI']\n",
    "    Xi3 = inc3.drop(['NUI'],axis=1)\n",
    "\n",
    "    Xi3_train, Xi3_test, yi3_train, yi3_test = train_test_split(Xi3, yi3,test_size=0.2)\n",
    "\n",
    "    modeli3 = LinearRegression()\n",
    "\n",
    "    modeli3.fit(Xi3_train,yi3_train)\n",
    "    q = modeli3.score(Xi3_test,yi3_test)\n",
    "    modeli3list.append(q)\n",
    "\n",
    "resulti3 = Avg(modeli3list)\n",
    "print(resulti3)"
   ]
  },
  {
   "cell_type": "code",
   "execution_count": null,
   "id": "04e0bfa6",
   "metadata": {},
   "outputs": [],
   "source": [
    "#"
   ]
  },
  {
   "cell_type": "code",
   "execution_count": 1012,
   "id": "49335e9d",
   "metadata": {},
   "outputs": [],
   "source": [
    "#this is the target correlation variable\n",
    "inc4 = numberundf.loc[numberundf['iprcat']==4]\n",
    "#th3se are all set to encompass the entire pop \n",
    "inc4 = inc4.loc[inc4['agecat']==0]\n",
    "inc4 = inc4.loc[inc4['racecat']==0]\n",
    "inc4 = inc4.loc[inc4['sexcat']==0]"
   ]
  },
  {
   "cell_type": "code",
   "execution_count": 1013,
   "id": "d3c876b3",
   "metadata": {},
   "outputs": [],
   "source": [
    "inc4.drop(['agecat'],axis=1,inplace=True)\n",
    "inc4.drop(['racecat'],axis=1,inplace=True)\n",
    "inc4.drop(['sexcat'],axis=1,inplace=True)\n",
    "inc4.drop(['iprcat'],axis=1,inplace=True)"
   ]
  },
  {
   "cell_type": "code",
   "execution_count": 1014,
   "id": "67881100",
   "metadata": {},
   "outputs": [
    {
     "name": "stdout",
     "output_type": "stream",
     "text": [
      "0.5323695439369407\n"
     ]
    }
   ],
   "source": [
    "modeli4list=[]\n",
    "\n",
    "for i in range(10000):\n",
    "    yi4 = inc4['NUI']\n",
    "    Xi4 = inc4.drop(['NUI'],axis=1)\n",
    "\n",
    "    Xi4_train, Xi4_test, yi4_train, yi4_test = train_test_split(Xi4, yi4,test_size=0.2)\n",
    "\n",
    "    modeli4 = LinearRegression()\n",
    "\n",
    "    modeli4.fit(Xi4_train,yi4_train)\n",
    "    q = modeli4.score(Xi4_test,yi4_test)\n",
    "    modeli4list.append(q)\n",
    "\n",
    "resulti4 = Avg(modeli4list)\n",
    "print(resulti4)"
   ]
  },
  {
   "cell_type": "code",
   "execution_count": null,
   "id": "1d8ba602",
   "metadata": {},
   "outputs": [],
   "source": [
    "#final equ taking all of the most suggestive outcomes and combining them"
   ]
  },
  {
   "cell_type": "code",
   "execution_count": null,
   "id": "6545f4e9",
   "metadata": {},
   "outputs": [],
   "source": [
    "#here is the link to the documentation for playing around\n",
    "#https://www2.census.gov/programs-surveys/sahie/technical-documentation/file-layouts/sahie-file-layout-2008-2019.pdf"
   ]
  },
  {
   "cell_type": "code",
   "execution_count": null,
   "id": "c157856b",
   "metadata": {},
   "outputs": [],
   "source": [
    "#most indicative numbers alone [2,2,2,1]^T r^2 ~ 0.65351\n",
    "#an interesting combo [5,0,2,1]^T r^2 ~ 0.78585\n",
    "#a bad combo [2,3,1,2]^T  r^2 ~ 0.36954"
   ]
  },
  {
   "cell_type": "code",
   "execution_count": 1019,
   "id": "44693547",
   "metadata": {},
   "outputs": [],
   "source": [
    "fin1 = numberundf.loc[numberundf['iprcat']==2]\n",
    "# iprcat 4,5 interesting\n",
    "fin1 = fin1.loc[fin1['agecat']==2]\n",
    "#playing with age to change result\n",
    "fin1 = fin1.loc[fin1['racecat']==2]\n",
    "fin1 = fin1.loc[fin1['sexcat']==1]"
   ]
  },
  {
   "cell_type": "code",
   "execution_count": 1020,
   "id": "b1d2cc21",
   "metadata": {},
   "outputs": [
    {
     "data": {
      "text/plain": [
       "'\\nas avg age goes down it appears that no insurance inc predictability\\nleast-black, mexican, white-most insured (predict) when considering race it seems\\nmen < women, when it comes to insurance (predictions)\\n'"
      ]
     },
     "execution_count": 1020,
     "metadata": {},
     "output_type": "execute_result"
    }
   ],
   "source": [
    "'''\n",
    "as avg age goes down it appears that no insurance inc predictability\n",
    "least-black, hispanic, white-most insured (predict) when considering race it seems\n",
    "men < women, when it comes to insurance (predictions)\n",
    "'''"
   ]
  },
  {
   "cell_type": "code",
   "execution_count": 1021,
   "id": "74239636",
   "metadata": {},
   "outputs": [],
   "source": [
    "fin1.drop(['agecat'],axis=1,inplace=True)\n",
    "fin1.drop(['racecat'],axis=1,inplace=True)\n",
    "fin1.drop(['sexcat'],axis=1,inplace=True)\n",
    "fin1.drop(['iprcat'],axis=1,inplace=True)"
   ]
  },
  {
   "cell_type": "code",
   "execution_count": 1022,
   "id": "4710fd59",
   "metadata": {},
   "outputs": [
    {
     "name": "stdout",
     "output_type": "stream",
     "text": [
      "0.6535132110664781\n"
     ]
    }
   ],
   "source": [
    "modelf1list=[]\n",
    "\n",
    "for i in range(10000):\n",
    "    yf1 = fin1['NUI']\n",
    "    Xf1 = fin1.drop(['NUI'],axis=1)\n",
    "\n",
    "    Xf1_train, Xf1_test, yf1_train, yf1_test = train_test_split(Xf1, yf1,test_size=0.2)\n",
    "\n",
    "    modelf1 = LinearRegression()\n",
    "\n",
    "    modelf1.fit(Xf1_train,yf1_train)\n",
    "    q = modelf1.score(Xf1_test,yf1_test)\n",
    "    modelf1list.append(q)\n",
    "\n",
    "resultf1 = Avg(modelf1list)\n",
    "print(resultf1)"
   ]
  },
  {
   "cell_type": "code",
   "execution_count": null,
   "id": "3078251a",
   "metadata": {},
   "outputs": [],
   "source": []
  }
 ],
 "metadata": {
  "kernelspec": {
   "display_name": "Python 3",
   "language": "python",
   "name": "python3"
  },
  "language_info": {
   "codemirror_mode": {
    "name": "ipython",
    "version": 3
   },
   "file_extension": ".py",
   "mimetype": "text/x-python",
   "name": "python",
   "nbconvert_exporter": "python",
   "pygments_lexer": "ipython3",
   "version": "3.9.1"
  }
 },
 "nbformat": 4,
 "nbformat_minor": 5
}
